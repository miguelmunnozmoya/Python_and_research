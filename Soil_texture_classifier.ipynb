{
 "cells": [
  {
   "cell_type": "markdown",
   "id": "33f1b9b4-757e-4573-802e-f7ab021efc40",
   "metadata": {},
   "source": [
    "# MODEL 1. SOIL TEXTURE CLASSIFIER\n",
    "\n",
    "In this Notebook, a RandomForestClassifier model will be applied to the data provided by the first German soil inventory in order to automatically classify the soils according to their texture, based on the values of the provided particle size variables.\n",
    "\n",
    "Data source:\n",
    "Poeplau, C., Don, A., Flessa, H., Heidkamp, A., Jacobs, A., Prietz, R., 2020. Erste Bodenzustandserhebung Landwirtschaft – Kerndatensatz. https://doi.org/10.3220/DATA20200203151139\n"
   ]
  },
  {
   "cell_type": "code",
   "execution_count": 1,
   "id": "95f91b4a-dca5-4aa9-86a6-3aecd3fae253",
   "metadata": {},
   "outputs": [],
   "source": [
    "import pandas as pd\n",
    "from pandas.api.types import is_numeric_dtype\n",
    "import numpy as np\n",
    "import matplotlib.pyplot as plt\n",
    "import seaborn as sns\n",
    "\n",
    "# Librerías para el modelo\n",
    "from sklearn import tree\n",
    "from sklearn.preprocessing import LabelEncoder\n",
    "from sklearn.model_selection import train_test_split\n",
    "from sklearn.ensemble import RandomForestClassifier\n",
    "from sklearn.metrics import classification_report, confusion_matrix, ConfusionMatrixDisplay\n",
    "from imblearn.over_sampling import SMOTE\n",
    "from collections import Counter\n"
   ]
  },
  {
   "cell_type": "markdown",
   "id": "e84c4678-5e9b-450a-a7fd-9eac48f77845",
   "metadata": {},
   "source": [
    "# 1. Load datasets"
   ]
  },
  {
   "cell_type": "code",
   "execution_count": 2,
   "id": "38a10eb7-0744-4304-a2bb-5f27745cbdc8",
   "metadata": {},
   "outputs": [],
   "source": [
    "ruta_site = (\"data//SITE.xlsx\")\n",
    "ruta_lab = (\"data/LABORATORY_DATA.xlsx\")\n",
    "ruta_hor  = (\"data/HORIZON_DATA.xlsx\")\n",
    "ruta_result=(\"data/suelos_alemania.xlsx\")\n",
    "\n",
    "df_hor = pd.read_excel(ruta_hor)\n",
    "df_lab = pd.read_excel(ruta_lab)\n",
    "df_site= pd.read_excel(ruta_site)\n",
    "df_result = pd.read_excel(ruta_result)\n"
   ]
  },
  {
   "cell_type": "markdown",
   "id": "381b3c06-dd9f-4713-bff8-1dd5aac36ac3",
   "metadata": {},
   "source": [
    "# 2. Merge data"
   ]
  },
  {
   "cell_type": "code",
   "execution_count": 3,
   "id": "b65f2acb-9148-456f-8681-365b2b0ca5ee",
   "metadata": {},
   "outputs": [],
   "source": [
    "# Make lists of the differents variables\n",
    "list_horizonts = list(df_hor.columns)\n",
    "list_lab = list(df_lab.columns)\n",
    "list_sites = list(df_site.columns)\n",
    "list_results = list(df_result.columns)"
   ]
  },
  {
   "cell_type": "code",
   "execution_count": 4,
   "id": "8d844cf2-d64f-4888-a16b-cbed94924e0c",
   "metadata": {},
   "outputs": [],
   "source": [
    "# In order to merge df_lab and d_hor, both datasets must contain a point identifier and a horizon identifier\n",
    "df_lab['HorizontID']=df_hor['HorizontID'] \n",
    "\n",
    "df_hor['HorizontID'] = df_hor['HorizontID'].astype(float) # Same data format"
   ]
  },
  {
   "cell_type": "code",
   "execution_count": 5,
   "id": "c040743c-4be7-4ae8-8659-a750386afd6b",
   "metadata": {},
   "outputs": [],
   "source": [
    "# Merge Dataframes\n",
    "df_unido = df_lab.merge(df_hor, on=['PointID', 'HorizontID'], how='left')"
   ]
  },
  {
   "cell_type": "code",
   "execution_count": 6,
   "id": "a8811208-f5f5-4ba1-9f0f-4687b67ae152",
   "metadata": {},
   "outputs": [],
   "source": [
    "# To organize new variables\n",
    "list_unido = list(df_unido.columns)"
   ]
  },
  {
   "cell_type": "markdown",
   "id": "a2916954-d59c-459d-9c60-b02cb7c21728",
   "metadata": {},
   "source": [
    "# 3. Process NaN data"
   ]
  },
  {
   "cell_type": "code",
   "execution_count": 7,
   "id": "848486d1-4e49-4863-b1f5-f8e9eeb5ac4c",
   "metadata": {},
   "outputs": [
    {
     "name": "stdout",
     "output_type": "stream",
     "text": [
      "                              Valores nulos  Porcentaje (%)\n",
      "Al_Di                                 15870       92.326488\n",
      "Fe_Di                                 15870       92.326488\n",
      "Mn_Di                                 15870       92.326488\n",
      "Al_Ox                                 15452       89.894700\n",
      "Fe_Ox                                 15452       89.894700\n",
      "Mn_Ox                                 15452       89.894700\n",
      "TS                                    14717       85.618710\n",
      "Rooting intensity                      6511       37.878876\n",
      "Soil colour                            3928       22.851824\n",
      "Soil texture class_y                   3917       22.787829\n",
      "Organic matter content class           3886       22.607482\n",
      "Lower limit                            3880       22.572575\n",
      "Upper limit                            3880       22.572575\n",
      "Stones                                 3880       22.572575\n",
      "Horizon symbol                         3880       22.572575\n",
      "Carbonate class                        3880       22.572575\n",
      "BD_bulk                                3789       22.043167\n",
      "HorizontID                             1970       11.460818\n",
      "Silt                                    481        2.798301\n",
      "gS                                      481        2.798301\n",
      "mU                                      481        2.798301\n",
      "gU                                      481        2.798301\n",
      "fS                                      481        2.798301\n",
      "mS                                      481        2.798301\n",
      "Sand                                    481        2.798301\n",
      "fU                                      481        2.798301\n",
      "Clay                                    481        2.798301\n",
      "Stone density                           319        1.855838\n",
      "Water content                            55        0.319972\n",
      "Rock fragment fraction                   18        0.104718\n",
      "FSS                                       6        0.034906\n",
      "BD_FS                                     6        0.034906\n",
      "TN                                        4        0.023271\n",
      "Horizon lower limit                       3        0.017453\n"
     ]
    }
   ],
   "source": [
    "# Calculate the percentages of NaN in each columns in order to make future decisions\n",
    "\n",
    "# Number of rows\n",
    "total_filas = df_unido.shape[0]\n",
    "\n",
    "# Nan counter\n",
    "nulos = df_unido.isnull().sum()\n",
    "\n",
    "# Percentage of Nan for columns\n",
    "porcentaje = (nulos / total_filas) * 100\n",
    "\n",
    "# Join everything in a DataFrame\n",
    "null_df = pd.DataFrame({\n",
    "    'Valores nulos': nulos,\n",
    "    'Porcentaje (%)': porcentaje\n",
    "})\n",
    "\n",
    "# Sorting by descending percentages\n",
    "null_df = null_df[null_df['Valores nulos'] > 0].sort_values(by='Porcentaje (%)', ascending=False)\n",
    "\n",
    "# Show\n",
    "print(null_df)"
   ]
  },
  {
   "cell_type": "markdown",
   "id": "9979bb2d-f28a-41f8-a865-1ce9224076d7",
   "metadata": {},
   "source": [
    "# 4. Select variables"
   ]
  },
  {
   "cell_type": "code",
   "execution_count": 8,
   "id": "e1849845-5a06-408b-9a7f-64c26c26ee38",
   "metadata": {},
   "outputs": [],
   "source": [
    "# Make a list wihth the variables we are going to erase: \n",
    "lista_eliminar = [\n",
    " 'Layer upper limit',\n",
    " 'Layer lower limit',\n",
    " 'Horizon lower limit',\n",
    " 'Mn_Ox',\n",
    " 'Fe_Ox',\n",
    " 'Al_Ox',\n",
    " 'Mn_Di',\n",
    " 'Fe_Di',\n",
    " 'Al_Di',\n",
    " 'TS',\n",
    " 'Soil texture class_y',]\n",
    "\n",
    "df_eliminados = df_unido.drop(lista_eliminar, axis=1)"
   ]
  },
  {
   "cell_type": "markdown",
   "id": "ee7d819b-be51-4df1-8ee3-900196b39da1",
   "metadata": {},
   "source": [
    "We remove the metals and TS because they have many missing values and we won't focus on them. Soil texture and the limits are removed because they are duplicated."
   ]
  },
  {
   "cell_type": "code",
   "execution_count": 9,
   "id": "6995c893-5e39-44bf-88b4-0c8400fb3832",
   "metadata": {},
   "outputs": [],
   "source": [
    "list_eliminados = list(df_eliminados.columns)"
   ]
  },
  {
   "cell_type": "code",
   "execution_count": 10,
   "id": "4989b321-2848-41b8-b163-8379fc119fb7",
   "metadata": {},
   "outputs": [],
   "source": [
    "# Organise the DataFramesorting variables in a list first: \n",
    "nuevo_orden = ['PointID', \n",
    " 'HorizontID',\n",
    " 'Upper limit',\n",
    " 'Lower limit',\n",
    " 'Horizon symbol',\n",
    " 'Rock fragment fraction',\n",
    " 'Soil colour',\n",
    " 'Stones',\n",
    " 'Stone density',\n",
    " 'Carbonate class',\n",
    " 'Organic matter content class',\n",
    " 'Rooting intensity',\n",
    " 'gS',\n",
    " 'mS',\n",
    " 'fS',\n",
    " 'gU',\n",
    " 'mU',\n",
    " 'fU',\n",
    " 'Sand',\n",
    " 'Silt',\n",
    " 'Clay',\n",
    " 'Soil texture class_x',\n",
    " 'BD_FS',\n",
    " 'BD_bulk',\n",
    " 'FSS',\n",
    " 'Water content',\n",
    " 'pH_H2O',\n",
    " 'EC_H2O',\n",
    " 'pH_CaCl2',\n",
    " 'TC',\n",
    " 'TOC',\n",
    " 'TIC',\n",
    " 'TN',\n",
    " 'County']"
   ]
  },
  {
   "cell_type": "code",
   "execution_count": 11,
   "id": "e16ed6e4-fc3a-4cc3-bfdd-1bc3922b5fbe",
   "metadata": {
    "scrolled": true
   },
   "outputs": [],
   "source": [
    "# Create our final DataFrame in a specific variables order\n",
    "df = df_eliminados.reindex(columns=nuevo_orden)\n"
   ]
  },
  {
   "cell_type": "code",
   "execution_count": 12,
   "id": "d1d88110-f604-46fa-8c14-a97b665ef2a2",
   "metadata": {},
   "outputs": [],
   "source": [
    "# Null values\n",
    "# We impute the missing values with the median if they are numerical and with 'Unknown' if they are categorical\n",
    "\n",
    "for col in df.columns:\n",
    "    if df[col].isnull().any():  # Si hay NaN en la columna\n",
    "        if is_numeric_dtype(df[col]):  # Verifica si es numérica (int o float)\n",
    "            df[col] = df[col].fillna(df[col].median())\n",
    "        else:\n",
    "            df[col] = df[col].fillna('Unknown')"
   ]
  },
  {
   "cell_type": "code",
   "execution_count": 13,
   "id": "4cfe8c3c-3111-4311-992a-65c16907e4ea",
   "metadata": {
    "scrolled": true
   },
   "outputs": [
    {
     "name": "stdout",
     "output_type": "stream",
     "text": [
      "<class 'pandas.core.frame.DataFrame'>\n",
      "RangeIndex: 17189 entries, 0 to 17188\n",
      "Data columns (total 34 columns):\n",
      " #   Column                        Non-Null Count  Dtype  \n",
      "---  ------                        --------------  -----  \n",
      " 0   PointID                       17189 non-null  int64  \n",
      " 1   HorizontID                    17189 non-null  float64\n",
      " 2   Upper limit                   17189 non-null  float64\n",
      " 3   Lower limit                   17189 non-null  float64\n",
      " 4   Horizon symbol                17189 non-null  object \n",
      " 5   Rock fragment fraction        17189 non-null  float64\n",
      " 6   Soil colour                   17189 non-null  object \n",
      " 7   Stones                        17189 non-null  object \n",
      " 8   Stone density                 17189 non-null  float64\n",
      " 9   Carbonate class               17189 non-null  object \n",
      " 10  Organic matter content class  17189 non-null  object \n",
      " 11  Rooting intensity             17189 non-null  object \n",
      " 12  gS                            17189 non-null  float64\n",
      " 13  mS                            17189 non-null  float64\n",
      " 14  fS                            17189 non-null  float64\n",
      " 15  gU                            17189 non-null  float64\n",
      " 16  mU                            17189 non-null  float64\n",
      " 17  fU                            17189 non-null  float64\n",
      " 18  Sand                          17189 non-null  float64\n",
      " 19  Silt                          17189 non-null  float64\n",
      " 20  Clay                          17189 non-null  float64\n",
      " 21  Soil texture class_x          17189 non-null  object \n",
      " 22  BD_FS                         17189 non-null  float64\n",
      " 23  BD_bulk                       17189 non-null  float64\n",
      " 24  FSS                           17189 non-null  float64\n",
      " 25  Water content                 17189 non-null  float64\n",
      " 26  pH_H2O                        17189 non-null  float64\n",
      " 27  EC_H2O                        17189 non-null  float64\n",
      " 28  pH_CaCl2                      17189 non-null  float64\n",
      " 29  TC                            17189 non-null  float64\n",
      " 30  TOC                           17189 non-null  float64\n",
      " 31  TIC                           17189 non-null  float64\n",
      " 32  TN                            17189 non-null  float64\n",
      " 33  County                        17189 non-null  object \n",
      "dtypes: float64(25), int64(1), object(8)\n",
      "memory usage: 4.5+ MB\n"
     ]
    }
   ],
   "source": [
    "df.info()\n",
    "df.to_csv('df_soils.csv', index=False)"
   ]
  },
  {
   "cell_type": "markdown",
   "id": "baabf918-baba-49fe-8d94-b685ab4351a9",
   "metadata": {},
   "source": [
    "# 5. BUILDING A MODEL TO CLASSIFY SOILS BASED ON THE VALUE OF THEIR VARIABLES"
   ]
  },
  {
   "cell_type": "markdown",
   "id": "03b64817-ce7e-416d-a48d-235a0cb05308",
   "metadata": {},
   "source": [
    "## 5.1. Create a df to visualize the kind of soils by texture class"
   ]
  },
  {
   "cell_type": "code",
   "execution_count": 14,
   "id": "5234dfed-cfb1-4662-bf33-10f58122de1e",
   "metadata": {},
   "outputs": [
    {
     "data": {
      "text/html": [
       "<div>\n",
       "<style scoped>\n",
       "    .dataframe tbody tr th:only-of-type {\n",
       "        vertical-align: middle;\n",
       "    }\n",
       "\n",
       "    .dataframe tbody tr th {\n",
       "        vertical-align: top;\n",
       "    }\n",
       "\n",
       "    .dataframe thead th {\n",
       "        text-align: right;\n",
       "    }\n",
       "</style>\n",
       "<table border=\"1\" class=\"dataframe\">\n",
       "  <thead>\n",
       "    <tr style=\"text-align: right;\">\n",
       "      <th></th>\n",
       "      <th>gS</th>\n",
       "      <th>mS</th>\n",
       "      <th>fS</th>\n",
       "      <th>gU</th>\n",
       "      <th>mU</th>\n",
       "      <th>fU</th>\n",
       "      <th>Sand</th>\n",
       "      <th>Silt</th>\n",
       "      <th>Clay</th>\n",
       "      <th>BD_bulk</th>\n",
       "      <th>Soil texture class_x</th>\n",
       "    </tr>\n",
       "  </thead>\n",
       "  <tbody>\n",
       "    <tr>\n",
       "      <th>0</th>\n",
       "      <td>5.8</td>\n",
       "      <td>33.4</td>\n",
       "      <td>35.4</td>\n",
       "      <td>13.1</td>\n",
       "      <td>3.2</td>\n",
       "      <td>1.5</td>\n",
       "      <td>74.6</td>\n",
       "      <td>17.8</td>\n",
       "      <td>7.6</td>\n",
       "      <td>1.17</td>\n",
       "      <td>Sl2</td>\n",
       "    </tr>\n",
       "    <tr>\n",
       "      <th>1</th>\n",
       "      <td>6.7</td>\n",
       "      <td>32.0</td>\n",
       "      <td>35.8</td>\n",
       "      <td>13.3</td>\n",
       "      <td>3.2</td>\n",
       "      <td>1.6</td>\n",
       "      <td>74.5</td>\n",
       "      <td>18.1</td>\n",
       "      <td>7.4</td>\n",
       "      <td>1.43</td>\n",
       "      <td>Sl2</td>\n",
       "    </tr>\n",
       "    <tr>\n",
       "      <th>2</th>\n",
       "      <td>5.0</td>\n",
       "      <td>27.9</td>\n",
       "      <td>37.8</td>\n",
       "      <td>17.5</td>\n",
       "      <td>3.5</td>\n",
       "      <td>1.7</td>\n",
       "      <td>70.7</td>\n",
       "      <td>22.8</td>\n",
       "      <td>6.5</td>\n",
       "      <td>1.47</td>\n",
       "      <td>Sl2</td>\n",
       "    </tr>\n",
       "    <tr>\n",
       "      <th>3</th>\n",
       "      <td>7.6</td>\n",
       "      <td>31.4</td>\n",
       "      <td>36.6</td>\n",
       "      <td>14.4</td>\n",
       "      <td>3.0</td>\n",
       "      <td>1.2</td>\n",
       "      <td>75.6</td>\n",
       "      <td>18.6</td>\n",
       "      <td>5.8</td>\n",
       "      <td>1.48</td>\n",
       "      <td>Sl2</td>\n",
       "    </tr>\n",
       "    <tr>\n",
       "      <th>4</th>\n",
       "      <td>5.8</td>\n",
       "      <td>43.1</td>\n",
       "      <td>42.3</td>\n",
       "      <td>4.1</td>\n",
       "      <td>1.3</td>\n",
       "      <td>0.6</td>\n",
       "      <td>91.2</td>\n",
       "      <td>6.0</td>\n",
       "      <td>2.8</td>\n",
       "      <td>1.59</td>\n",
       "      <td>mSfs</td>\n",
       "    </tr>\n",
       "    <tr>\n",
       "      <th>...</th>\n",
       "      <td>...</td>\n",
       "      <td>...</td>\n",
       "      <td>...</td>\n",
       "      <td>...</td>\n",
       "      <td>...</td>\n",
       "      <td>...</td>\n",
       "      <td>...</td>\n",
       "      <td>...</td>\n",
       "      <td>...</td>\n",
       "      <td>...</td>\n",
       "      <td>...</td>\n",
       "    </tr>\n",
       "    <tr>\n",
       "      <th>17184</th>\n",
       "      <td>1.7</td>\n",
       "      <td>40.3</td>\n",
       "      <td>48.2</td>\n",
       "      <td>4.8</td>\n",
       "      <td>1.6</td>\n",
       "      <td>0.4</td>\n",
       "      <td>90.1</td>\n",
       "      <td>6.8</td>\n",
       "      <td>3.1</td>\n",
       "      <td>0.99</td>\n",
       "      <td>fSms</td>\n",
       "    </tr>\n",
       "    <tr>\n",
       "      <th>17185</th>\n",
       "      <td>1.4</td>\n",
       "      <td>39.2</td>\n",
       "      <td>49.6</td>\n",
       "      <td>6.3</td>\n",
       "      <td>1.5</td>\n",
       "      <td>0.4</td>\n",
       "      <td>90.2</td>\n",
       "      <td>8.3</td>\n",
       "      <td>1.5</td>\n",
       "      <td>1.46</td>\n",
       "      <td>fSms</td>\n",
       "    </tr>\n",
       "    <tr>\n",
       "      <th>17186</th>\n",
       "      <td>1.2</td>\n",
       "      <td>39.9</td>\n",
       "      <td>49.5</td>\n",
       "      <td>6.1</td>\n",
       "      <td>1.1</td>\n",
       "      <td>0.3</td>\n",
       "      <td>90.6</td>\n",
       "      <td>7.5</td>\n",
       "      <td>1.9</td>\n",
       "      <td>1.50</td>\n",
       "      <td>fSms</td>\n",
       "    </tr>\n",
       "    <tr>\n",
       "      <th>17187</th>\n",
       "      <td>1.2</td>\n",
       "      <td>40.9</td>\n",
       "      <td>53.5</td>\n",
       "      <td>2.7</td>\n",
       "      <td>0.5</td>\n",
       "      <td>0.2</td>\n",
       "      <td>95.5</td>\n",
       "      <td>3.3</td>\n",
       "      <td>1.2</td>\n",
       "      <td>1.63</td>\n",
       "      <td>fSms</td>\n",
       "    </tr>\n",
       "    <tr>\n",
       "      <th>17188</th>\n",
       "      <td>1.7</td>\n",
       "      <td>34.3</td>\n",
       "      <td>59.4</td>\n",
       "      <td>3.4</td>\n",
       "      <td>0.0</td>\n",
       "      <td>0.1</td>\n",
       "      <td>95.4</td>\n",
       "      <td>3.5</td>\n",
       "      <td>1.1</td>\n",
       "      <td>1.76</td>\n",
       "      <td>fSms</td>\n",
       "    </tr>\n",
       "  </tbody>\n",
       "</table>\n",
       "<p>17189 rows × 11 columns</p>\n",
       "</div>"
      ],
      "text/plain": [
       "        gS    mS    fS    gU   mU   fU  Sand  Silt  Clay  BD_bulk  \\\n",
       "0      5.8  33.4  35.4  13.1  3.2  1.5  74.6  17.8   7.6     1.17   \n",
       "1      6.7  32.0  35.8  13.3  3.2  1.6  74.5  18.1   7.4     1.43   \n",
       "2      5.0  27.9  37.8  17.5  3.5  1.7  70.7  22.8   6.5     1.47   \n",
       "3      7.6  31.4  36.6  14.4  3.0  1.2  75.6  18.6   5.8     1.48   \n",
       "4      5.8  43.1  42.3   4.1  1.3  0.6  91.2   6.0   2.8     1.59   \n",
       "...    ...   ...   ...   ...  ...  ...   ...   ...   ...      ...   \n",
       "17184  1.7  40.3  48.2   4.8  1.6  0.4  90.1   6.8   3.1     0.99   \n",
       "17185  1.4  39.2  49.6   6.3  1.5  0.4  90.2   8.3   1.5     1.46   \n",
       "17186  1.2  39.9  49.5   6.1  1.1  0.3  90.6   7.5   1.9     1.50   \n",
       "17187  1.2  40.9  53.5   2.7  0.5  0.2  95.5   3.3   1.2     1.63   \n",
       "17188  1.7  34.3  59.4   3.4  0.0  0.1  95.4   3.5   1.1     1.76   \n",
       "\n",
       "      Soil texture class_x  \n",
       "0                      Sl2  \n",
       "1                      Sl2  \n",
       "2                      Sl2  \n",
       "3                      Sl2  \n",
       "4                     mSfs  \n",
       "...                    ...  \n",
       "17184                 fSms  \n",
       "17185                 fSms  \n",
       "17186                 fSms  \n",
       "17187                 fSms  \n",
       "17188                 fSms  \n",
       "\n",
       "[17189 rows x 11 columns]"
      ]
     },
     "execution_count": 14,
     "metadata": {},
     "output_type": "execute_result"
    }
   ],
   "source": [
    "variables_clase_suelo = ['gS','mS','fS','gU','mU','fU','Sand','Silt','Clay','BD_bulk', 'Soil texture class_x']\n",
    "\n",
    "df_soil = df[variables_clase_suelo]\n",
    "df_soil"
   ]
  },
  {
   "cell_type": "markdown",
   "id": "456a5298-cbc7-4f8d-b770-2ed2b94f8c4c",
   "metadata": {},
   "source": [
    "## 5.3. Encode categorical variable (Target)"
   ]
  },
  {
   "cell_type": "code",
   "execution_count": 15,
   "id": "1d290a46-aca2-4a89-9eac-53b099084e3f",
   "metadata": {
    "scrolled": true
   },
   "outputs": [
    {
     "name": "stderr",
     "output_type": "stream",
     "text": [
      "/tmp/ipykernel_12586/1633060160.py:7: SettingWithCopyWarning: \n",
      "A value is trying to be set on a copy of a slice from a DataFrame.\n",
      "Try using .loc[row_indexer,col_indexer] = value instead\n",
      "\n",
      "See the caveats in the documentation: https://pandas.pydata.org/pandas-docs/stable/user_guide/indexing.html#returning-a-view-versus-a-copy\n",
      "  df_soil['texture_encoded'] = le.fit_transform(df_soil['Soil texture class_x'])\n"
     ]
    }
   ],
   "source": [
    "# Codifing the categorical target variable (Soil texture):\n",
    "\n",
    "features = ['gS', 'mS', 'fS', 'gU', 'mU', 'fU', 'Sand', 'Silt', 'Clay', 'BD_bulk']\n",
    "target = 'Soil texture class_x'\n",
    "\n",
    "le = LabelEncoder()\n",
    "df_soil['texture_encoded'] = le.fit_transform(df_soil['Soil texture class_x'])\n"
   ]
  },
  {
   "cell_type": "markdown",
   "id": "b087c111-4d34-4245-a7ed-307736debfdb",
   "metadata": {},
   "source": [
    "## 5.2. Class balancing"
   ]
  },
  {
   "cell_type": "code",
   "execution_count": 16,
   "id": "0bc7c23a-72bc-4f21-9084-1da80d26a2a7",
   "metadata": {
    "scrolled": true
   },
   "outputs": [
    {
     "data": {
      "text/plain": [
       "Soil texture class_x\n",
       "SS                                3\n",
       "hoher Carbonat-/Humusanteil       6\n",
       "Ts2                               7\n",
       "Ts3                              11\n",
       "gS                               11\n",
       "Uu                               12\n",
       "Ts4                              22\n",
       "Us                               52\n",
       "Su4                              54\n",
       "St3                              89\n",
       "Ut2                              92\n",
       "Tl                              118\n",
       "mS                              169\n",
       "mSgs                            176\n",
       "Tt                              235\n",
       "fS                              292\n",
       "Su3                             320\n",
       "Uls                             324\n",
       "Slu                             343\n",
       "Lts                             355\n",
       "St2                             407\n",
       "Lt3                             416\n",
       "Ls3                             475\n",
       "> 30 Masse%-OBS                 475\n",
       "Tu4                             483\n",
       "Ls2                             504\n",
       "Ls4                             561\n",
       "Ut3                             665\n",
       "fSms                            666\n",
       "Tu2                             709\n",
       "Lt2                             716\n",
       "Sl2                             846\n",
       "Su2                             881\n",
       "Tu3                             900\n",
       "mSfs                            939\n",
       "Sl3                            1058\n",
       "Sl4                            1146\n",
       "Lu                             1292\n",
       "Ut4                            1359\n",
       "dtype: int64"
      ]
     },
     "execution_count": 16,
     "metadata": {},
     "output_type": "execute_result"
    }
   ],
   "source": [
    "count_classes = df_soil.groupby('Soil texture class_x').size().sort_values()\n",
    "count_classes"
   ]
  },
  {
   "cell_type": "markdown",
   "id": "71eb363d-d0a1-4d13-be8e-16ca52ceff39",
   "metadata": {},
   "source": [
    "The dataset is highly imbalanced. We are going to address this issue.\n",
    "\n",
    "First, let’s visualize the data:"
   ]
  },
  {
   "cell_type": "code",
   "execution_count": 17,
   "id": "2c1f6f80-68b1-43a6-b190-d10fdfc97361",
   "metadata": {},
   "outputs": [
    {
     "data": {
      "image/png": "[encoded data removed]",
      "text/plain": [
       "<Figure size 640x480 with 1 Axes>"
      ]
     },
     "metadata": {},
     "output_type": "display_data"
    }
   ],
   "source": [
    "sns.histplot(data=df_soil, x='Soil texture class_x', stat='count', shrink=0.8)\n",
    "plt.xticks(rotation=90)\n",
    "plt.title(\"Distribución de clases de textura del suelo\")\n",
    "plt.show()"
   ]
  },
  {
   "cell_type": "markdown",
   "id": "96e428b4-a294-4d25-9909-3fd2b3a698a3",
   "metadata": {},
   "source": [
    "Soils with less than 100 observations:    \n",
    "    SS                                3\n",
    "    hoher Carbonat-/Humusanteil       6\n",
    "    Ts2                               7\n",
    "    Ts3                              11\n",
    "    gS                               11\n",
    "    Uu                               12\n",
    "    Ts4                              22\n",
    "    Us                               52\n",
    "    Su4                              54\n",
    "    St3                              89\n",
    "    Ut2                              92\n",
    "\n",
    "What are we going to do?\n",
    "\n",
    "    1. We will group the classes Ts2, Ts3, and Ts4 into a single class Ts.\n",
    "\n",
    "    2. We will remove hoher Carbonat-/Humusanteil, gS, fS, mS, fs, fSmS, mSfs, mSgS since these endings are not present in the Definition of the German soil texture classes according to Ad-hoc-AG Boden (2005), which we will use for soil classification.\n",
    "\n",
    "    3. SS and Uu represent pure sand and pure silt, respectively; they are easy to classify but have very few observations. Therefore, it seems reasonable to artificially increase their weight in the dataset, as the model will likely classify them easily.\n",
    "\n",
    "    4. Us, Su4, St3, Ut2 are the most representative classes. We will increase their weight in the dataset accordingly.\n",
    "\n",
    "Considering this, we will first remove the unwanted classes, then group the Ts classes, and finally, during the RandomForestClassifier modeling, we will specify the following class weights:\n",
    "\n",
    "class_weight={\n",
    "    'SS': 10,\n",
    "    'Uu': 10,\n",
    "    'Us': 5,\n",
    "    'Su4': 5,\n",
    "    'St3': 5,\n",
    "    'Ut2': 5\n",
    "})\n"
   ]
  },
  {
   "cell_type": "code",
   "execution_count": 18,
   "id": "f305af8f-a39e-495f-9676-7781ea31ee8f",
   "metadata": {
    "scrolled": true
   },
   "outputs": [
    {
     "name": "stdout",
     "output_type": "stream",
     "text": [
      "       texture_encoded         Soil texture class_x\n",
      "71                   0              > 30 Masse%-OBS\n",
      "151                  1                          Ls2\n",
      "5                    2                          Ls3\n",
      "7                    3                          Ls4\n",
      "8                    4                          Lt2\n",
      "9                    5                          Lt3\n",
      "100                  6                          Lts\n",
      "327                  7                           Lu\n",
      "1524                 8                           SS\n",
      "0                    9                          Sl2\n",
      "62                  10                          Sl3\n",
      "34                  11                          Sl4\n",
      "150                 12                          Slu\n",
      "23                  13                          St2\n",
      "2682                14                          St3\n",
      "41                  15                          Su2\n",
      "170                 16                          Su3\n",
      "325                 17                          Su4\n",
      "2486                18                           Tl\n",
      "8014                19                          Ts2\n",
      "11472               20                          Ts3\n",
      "3340                21                          Ts4\n",
      "308                 22                           Tt\n",
      "30                  23                          Tu2\n",
      "164                 24                          Tu3\n",
      "514                 25                          Tu4\n",
      "249                 26                          Uls\n",
      "660                 27                           Us\n",
      "209                 28                          Ut2\n",
      "206                 29                          Ut3\n",
      "211                 30                          Ut4\n",
      "3791                31                           Uu\n",
      "40                  32                           fS\n",
      "17                  33                         fSms\n",
      "3970                34                           gS\n",
      "2101                35  hoher Carbonat-/Humusanteil\n",
      "25                  36                           mS\n",
      "4                   37                         mSfs\n",
      "82                  38                         mSgs\n"
     ]
    }
   ],
   "source": [
    "mapping = df_soil[['texture_encoded', 'Soil texture class_x']].drop_duplicates().sort_values('texture_encoded')\n",
    "print(mapping)"
   ]
  },
  {
   "cell_type": "code",
   "execution_count": 19,
   "id": "d104db55-49c8-4fa9-99ff-a25194efceb4",
   "metadata": {},
   "outputs": [],
   "source": [
    "erased_classes = [32, 33, 34, 35, 36, 37, 38]\n",
    "\n",
    "grouped_classes = {\n",
    "    19: 20,\n",
    "    21: 20\n",
    "}\n",
    "\n",
    "# erase selected classes\n",
    "df_filtrado = df_soil[~df_soil[\"texture_encoded\"].isin(erased_classes)].copy()"
   ]
  },
  {
   "cell_type": "code",
   "execution_count": 20,
   "id": "f3545713-71f3-416d-9e12-60a3a65fb17c",
   "metadata": {},
   "outputs": [],
   "source": [
    "# grouped selected classes\n",
    "df_filtrado['texture_encoded'] = df_filtrado[\"texture_encoded\"].replace(grouped_classes)"
   ]
  },
  {
   "cell_type": "code",
   "execution_count": 21,
   "id": "897e82fe-a725-42e4-8df1-e2436180c632",
   "metadata": {
    "scrolled": true
   },
   "outputs": [
    {
     "name": "stdout",
     "output_type": "stream",
     "text": [
      "       texture_encoded Soil texture class_x\n",
      "71                   0      > 30 Masse%-OBS\n",
      "151                  1                  Ls2\n",
      "5                    2                  Ls3\n",
      "7                    3                  Ls4\n",
      "8                    4                  Lt2\n",
      "9                    5                  Lt3\n",
      "100                  6                  Lts\n",
      "327                  7                   Lu\n",
      "1524                 8                   SS\n",
      "0                    9                  Sl2\n",
      "62                  10                  Sl3\n",
      "34                  11                  Sl4\n",
      "150                 12                  Slu\n",
      "23                  13                  St2\n",
      "2682                14                  St3\n",
      "41                  15                  Su2\n",
      "170                 16                  Su3\n",
      "325                 17                  Su4\n",
      "2486                18                   Tl\n",
      "3340                20                  Ts4\n",
      "8014                20                  Ts2\n",
      "11472               20                  Ts3\n",
      "308                 22                   Tt\n",
      "30                  23                  Tu2\n",
      "164                 24                  Tu3\n",
      "514                 25                  Tu4\n",
      "249                 26                  Uls\n",
      "660                 27                   Us\n",
      "209                 28                  Ut2\n",
      "206                 29                  Ut3\n",
      "211                 30                  Ut4\n",
      "3791                31                   Uu\n"
     ]
    }
   ],
   "source": [
    "# Corroborate the filtering\n",
    "mapping = df_filtrado[['texture_encoded', 'Soil texture class_x']].drop_duplicates().sort_values('texture_encoded')\n",
    "print(mapping)"
   ]
  },
  {
   "cell_type": "markdown",
   "id": "0a7be58b-30f9-4aeb-ade6-c503f6fdb3f4",
   "metadata": {},
   "source": [
    "## 5.4. Train and test the model"
   ]
  },
  {
   "cell_type": "markdown",
   "id": "fdf56b38-0f94-4af8-a2df-bb57c7ee3a9a",
   "metadata": {},
   "source": [
    "## 5.4.1. No balanced dataframe"
   ]
  },
  {
   "cell_type": "code",
   "execution_count": 22,
   "id": "f71b014c-85ec-4735-b241-5b06c8c0b983",
   "metadata": {
    "scrolled": true
   },
   "outputs": [
    {
     "name": "stdout",
     "output_type": "stream",
     "text": [
      "              precision    recall  f1-score   support\n",
      "\n",
      "           0       1.00      1.00      1.00       110\n",
      "           1       0.99      1.00      1.00       110\n",
      "           2       0.99      0.97      0.98        94\n",
      "           3       0.97      1.00      0.98       125\n",
      "           4       1.00      0.98      0.99       139\n",
      "           5       1.00      1.00      1.00        86\n",
      "           6       0.93      1.00      0.96        68\n",
      "           7       1.00      0.99      0.99       241\n",
      "           9       0.95      0.98      0.97       167\n",
      "          10       0.98      1.00      0.99       209\n",
      "          11       1.00      0.99      1.00       219\n",
      "          12       0.99      0.99      0.99        68\n",
      "          13       1.00      0.98      0.99        85\n",
      "          14       0.95      0.95      0.95        19\n",
      "          15       0.99      0.98      0.98       178\n",
      "          16       1.00      0.94      0.97        68\n",
      "          17       1.00      1.00      1.00        12\n",
      "          18       0.86      1.00      0.92        18\n",
      "          20       1.00      0.55      0.71        11\n",
      "          22       1.00      0.94      0.97        34\n",
      "          23       0.99      0.99      0.99       157\n",
      "          24       0.98      1.00      0.99       183\n",
      "          25       1.00      1.00      1.00       100\n",
      "          26       0.98      1.00      0.99        60\n",
      "          27       1.00      1.00      1.00        12\n",
      "          28       0.75      0.95      0.84        19\n",
      "          29       0.99      1.00      1.00       132\n",
      "          30       1.00      1.00      1.00       256\n",
      "          31       0.00      0.00      0.00         6\n",
      "\n",
      "    accuracy                           0.99      2986\n",
      "   macro avg       0.94      0.94      0.94      2986\n",
      "weighted avg       0.98      0.99      0.98      2986\n",
      "\n"
     ]
    },
    {
     "name": "stderr",
     "output_type": "stream",
     "text": [
      "/home/mik/miniconda3/lib/python3.12/site-packages/sklearn/metrics/_classification.py:1565: UndefinedMetricWarning: Precision is ill-defined and being set to 0.0 in labels with no predicted samples. Use `zero_division` parameter to control this behavior.\n",
      "  _warn_prf(average, modifier, f\"{metric.capitalize()} is\", len(result))\n",
      "/home/mik/miniconda3/lib/python3.12/site-packages/sklearn/metrics/_classification.py:1565: UndefinedMetricWarning: Precision is ill-defined and being set to 0.0 in labels with no predicted samples. Use `zero_division` parameter to control this behavior.\n",
      "  _warn_prf(average, modifier, f\"{metric.capitalize()} is\", len(result))\n",
      "/home/mik/miniconda3/lib/python3.12/site-packages/sklearn/metrics/_classification.py:1565: UndefinedMetricWarning: Precision is ill-defined and being set to 0.0 in labels with no predicted samples. Use `zero_division` parameter to control this behavior.\n",
      "  _warn_prf(average, modifier, f\"{metric.capitalize()} is\", len(result))\n"
     ]
    }
   ],
   "source": [
    "# Separate predictors features (X) and target variable (y)\n",
    "X = df_filtrado[features]\n",
    "y = df_filtrado['texture_encoded']\n",
    "\n",
    "# Creating test and train groups with train_test_split\n",
    "X_train, X_test, y_train, y_test = train_test_split(X, y, test_size=0.2, random_state=42)\n",
    "\n",
    "# Define the model\n",
    "model = RandomForestClassifier(n_estimators=100, random_state=42, max_depth=9)\n",
    "\n",
    "# Train the model\n",
    "model.fit(X_train, y_train)\n",
    "\n",
    "# Make predictions with the test group\n",
    "y_pred = model.predict(X_test)\n",
    "\n",
    "# Assess the model\n",
    "print(classification_report(y_test, y_pred))\n"
   ]
  },
  {
   "cell_type": "markdown",
   "id": "158c1619-a360-419c-b34f-392510ea58cd",
   "metadata": {},
   "source": [
    "We can observe that the prediction is poor for soil classes 20, 28, and 31, which coincides with the classes having few observations. This confirms the need for class balancing."
   ]
  },
  {
   "cell_type": "markdown",
   "id": "f0b4ea86-22fe-46f0-8158-6bf3c8aa70e3",
   "metadata": {},
   "source": [
    "## 5.4.1. Balanced dataframe"
   ]
  },
  {
   "cell_type": "code",
   "execution_count": 23,
   "id": "3ecd41d1-a833-4f2f-8b16-536539f3fa0a",
   "metadata": {
    "scrolled": true
   },
   "outputs": [
    {
     "name": "stdout",
     "output_type": "stream",
     "text": [
      "              precision    recall  f1-score   support\n",
      "\n",
      "           0       1.00      1.00      1.00       110\n",
      "           1       1.00      1.00      1.00       110\n",
      "           2       1.00      0.98      0.99        94\n",
      "           3       0.98      1.00      0.99       125\n",
      "           4       1.00      0.99      0.99       139\n",
      "           5       1.00      1.00      1.00        86\n",
      "           6       0.97      1.00      0.99        68\n",
      "           7       1.00      0.99      0.99       241\n",
      "           9       0.95      0.98      0.97       167\n",
      "          10       0.98      0.99      0.98       209\n",
      "          11       1.00      1.00      1.00       219\n",
      "          12       1.00      1.00      1.00        68\n",
      "          13       1.00      0.98      0.99        85\n",
      "          14       0.95      1.00      0.97        19\n",
      "          15       0.99      0.98      0.98       178\n",
      "          16       0.96      0.94      0.95        68\n",
      "          17       1.00      0.92      0.96        12\n",
      "          18       0.90      1.00      0.95        18\n",
      "          20       1.00      0.91      0.95        11\n",
      "          22       1.00      0.94      0.97        34\n",
      "          23       0.99      0.99      0.99       157\n",
      "          24       0.98      1.00      0.99       183\n",
      "          25       1.00      1.00      1.00       100\n",
      "          26       1.00      1.00      1.00        60\n",
      "          27       1.00      1.00      1.00        12\n",
      "          28       0.76      1.00      0.86        19\n",
      "          29       1.00      1.00      1.00       132\n",
      "          30       1.00      1.00      1.00       256\n",
      "          31       0.00      0.00      0.00         6\n",
      "\n",
      "    accuracy                           0.99      2986\n",
      "   macro avg       0.95      0.95      0.95      2986\n",
      "weighted avg       0.99      0.99      0.99      2986\n",
      "\n"
     ]
    },
    {
     "name": "stderr",
     "output_type": "stream",
     "text": [
      "/home/mik/miniconda3/lib/python3.12/site-packages/sklearn/metrics/_classification.py:1565: UndefinedMetricWarning: Precision is ill-defined and being set to 0.0 in labels with no predicted samples. Use `zero_division` parameter to control this behavior.\n",
      "  _warn_prf(average, modifier, f\"{metric.capitalize()} is\", len(result))\n",
      "/home/mik/miniconda3/lib/python3.12/site-packages/sklearn/metrics/_classification.py:1565: UndefinedMetricWarning: Precision is ill-defined and being set to 0.0 in labels with no predicted samples. Use `zero_division` parameter to control this behavior.\n",
      "  _warn_prf(average, modifier, f\"{metric.capitalize()} is\", len(result))\n",
      "/home/mik/miniconda3/lib/python3.12/site-packages/sklearn/metrics/_classification.py:1565: UndefinedMetricWarning: Precision is ill-defined and being set to 0.0 in labels with no predicted samples. Use `zero_division` parameter to control this behavior.\n",
      "  _warn_prf(average, modifier, f\"{metric.capitalize()} is\", len(result))\n"
     ]
    }
   ],
   "source": [
    "# Separate predictors features (X) and target variable (y)\n",
    "X = df_filtrado[features]\n",
    "y = df_filtrado['texture_encoded']\n",
    "\n",
    "# Creating test and train groups with train_test_split\n",
    "X_train, X_test, y_train, y_test = train_test_split(X, y, test_size=0.2, random_state=42)\n",
    "\n",
    "# Define the model\n",
    "model = RandomForestClassifier(n_estimators=100, random_state=42, max_depth=10, \n",
    "                              class_weight={\n",
    "    8 : 20,\n",
    "    31: 20,\n",
    "    27: 10,\n",
    "    17: 10,\n",
    "    14: 10,\n",
    "    28: 10\n",
    "})\n",
    "\n",
    "# Train the model\n",
    "model.fit(X_train, y_train)\n",
    "\n",
    "# Make predictions with the test group\n",
    "y_pred = model.predict(X_test)\n",
    "\n",
    "# Assess the model\n",
    "print(classification_report(y_test, y_pred))\n"
   ]
  },
  {
   "cell_type": "markdown",
   "id": "0914b78e-2003-4d95-bd5e-1cded90b1114",
   "metadata": {},
   "source": [
    "This model achieves good results in predicting most classes, except for class <b>31 (Uu)</b>, whose observations are too few (3) for the RandomForestClassifier model to balance.\n"
   ]
  },
  {
   "cell_type": "markdown",
   "id": "30f763dd-fec4-4b3b-b828-a3749f7a90f7",
   "metadata": {},
   "source": [
    "## 5.5. Making a simulation with the model"
   ]
  },
  {
   "cell_type": "code",
   "execution_count": 24,
   "id": "977ec123-3f25-4333-a2bf-349b83da5ade",
   "metadata": {},
   "outputs": [
    {
     "name": "stdout",
     "output_type": "stream",
     "text": [
      "Predicted texture class: Su2\n"
     ]
    }
   ],
   "source": [
    "nueva_muestra = pd.DataFrame([{\n",
    "    'gS': 6.0,\n",
    "    'mS': 35.0,\n",
    "    'fS': 40.0,\n",
    "    'gU': 15.0,\n",
    "    'mU': 3.0,\n",
    "    'fU': 2.0,\n",
    "    'Sand': 100.0,\n",
    "    'Silt': 0.0,\n",
    "    'Clay': 0,\n",
    "    'BD_bulk': 1.45,\n",
    "}])\n",
    "\n",
    "# Model prediction\n",
    "pred_encoded = model.predict(nueva_muestra)\n",
    "\n",
    "# Decode the soil texture class predicted\n",
    "pred_clase = le.inverse_transform(pred_encoded)\n",
    "print(\"Predicted texture class:\", pred_clase[0])"
   ]
  },
  {
   "cell_type": "markdown",
   "id": "fcc653c6-d52c-4764-8aa7-f6c0775e4122",
   "metadata": {},
   "source": [
    "![Triángulo de las texturas](img/Definition-of-the-German-soil-texture-classes-according-to-Ad-hoc-AG-Boden-2005-T.png)\n",
    "\n",
    "Fig. 1. Definition of the German soil texture classes according to\n",
    "Ad-hoc-AG Boden (2005). T = clay, S = sand, U = silt, L = loam; 2\n",
    "= slight, 3 = medium, 4 = high"
   ]
  },
  {
   "cell_type": "markdown",
   "id": "85c0ee12-bc25-4800-a3dc-42d32fa3863d",
   "metadata": {},
   "source": [
    "# 6. Can we reduce the number of variables?"
   ]
  },
  {
   "cell_type": "code",
   "execution_count": 25,
   "id": "9b65d4bd-1d4a-48b1-8f50-0bd380ab2ed8",
   "metadata": {},
   "outputs": [
    {
     "data": {
      "image/png": "[encoded data removed]",
      "text/plain": [
       "<Figure size 640x480 with 1 Axes>"
      ]
     },
     "metadata": {},
     "output_type": "display_data"
    }
   ],
   "source": [
    "# Feature importances mport matplotlib.pyplot as plt\n",
    "import seaborn as sns\n",
    "\n",
    "importancias = model.feature_importances_\n",
    "sns.barplot(x=importancias, y=features)\n",
    "plt.title(\"Feature importances\")\n",
    "plt.show()"
   ]
  },
  {
   "cell_type": "markdown",
   "id": "63167100-fd03-4994-b87e-8d33689d3fed",
   "metadata": {},
   "source": [
    "We can try to run the model only with Sand, silt and clay:"
   ]
  },
  {
   "cell_type": "code",
   "execution_count": 26,
   "id": "68583e2e-7157-4fc9-8ef7-e2026b775351",
   "metadata": {},
   "outputs": [
    {
     "name": "stdout",
     "output_type": "stream",
     "text": [
      "              precision    recall  f1-score   support\n",
      "\n",
      "           0       1.00      1.00      1.00       110\n",
      "           1       0.98      1.00      0.99       110\n",
      "           2       0.99      0.96      0.97        94\n",
      "           3       0.98      1.00      0.99       125\n",
      "           4       1.00      0.98      0.99       139\n",
      "           5       1.00      1.00      1.00        86\n",
      "           6       0.94      1.00      0.97        68\n",
      "           7       1.00      0.99      0.99       241\n",
      "           9       0.95      0.98      0.97       167\n",
      "          10       0.98      1.00      0.99       209\n",
      "          11       1.00      0.98      0.99       219\n",
      "          12       0.94      0.99      0.96        68\n",
      "          13       1.00      0.98      0.99        85\n",
      "          14       0.90      1.00      0.95        19\n",
      "          15       0.99      0.98      0.99       178\n",
      "          16       1.00      0.96      0.98        68\n",
      "          17       0.92      0.92      0.92        12\n",
      "          18       0.86      1.00      0.92        18\n",
      "          20       1.00      0.55      0.71        11\n",
      "          22       1.00      0.94      0.97        34\n",
      "          23       0.99      0.99      0.99       157\n",
      "          24       0.98      1.00      0.99       183\n",
      "          25       1.00      1.00      1.00       100\n",
      "          26       0.98      1.00      0.99        60\n",
      "          27       1.00      0.92      0.96        12\n",
      "          28       0.83      1.00      0.90        19\n",
      "          29       1.00      1.00      1.00       132\n",
      "          30       1.00      1.00      1.00       256\n",
      "          31       1.00      0.33      0.50         6\n",
      "\n",
      "    accuracy                           0.99      2986\n",
      "   macro avg       0.97      0.95      0.95      2986\n",
      "weighted avg       0.99      0.99      0.99      2986\n",
      "\n"
     ]
    }
   ],
   "source": [
    "new_features = ['Sand', 'Silt', 'Clay']\n",
    "\n",
    "X = df_filtrado[new_features]\n",
    "y = df_filtrado['texture_encoded']\n",
    "\n",
    "X_train, X_test, y_train, y_test = train_test_split(X, y, test_size=0.2, random_state=42)\n",
    "\n",
    "model = RandomForestClassifier(n_estimators=100, random_state=42, max_depth=7, \n",
    "                              class_weight={\n",
    "    8 : 10,\n",
    "    31: 10,\n",
    "    27: 5,\n",
    "    17: 5,\n",
    "    14: 5,\n",
    "    28: 5\n",
    "})\n",
    "\n",
    "model.fit(X_train, y_train)\n",
    "\n",
    "y_pred = model.predict(X_test)\n",
    "\n",
    "print(classification_report(y_test, y_pred))\n"
   ]
  },
  {
   "cell_type": "code",
   "execution_count": 29,
   "id": "b6a4683c-ee7d-4207-943e-cb38442c5d63",
   "metadata": {},
   "outputs": [
    {
     "name": "stdout",
     "output_type": "stream",
     "text": [
      "Predicted texture class: Uu\n"
     ]
    }
   ],
   "source": [
    "nueva_muestra = pd.DataFrame([{\n",
    "    'Sand': 0.0,\n",
    "    'Silt': 100.0,\n",
    "    'Clay': 0,\n",
    "}])\n",
    "\n",
    "# Model prediction\n",
    "pred_encoded = model.predict(nueva_muestra)\n",
    "\n",
    "# Decode the soil texture class predicted\n",
    "pred_clase = le.inverse_transform(pred_encoded)\n",
    "print(\"Predicted texture class:\", pred_clase[0])"
   ]
  },
  {
   "cell_type": "markdown",
   "id": "b79fca8e-e450-4de6-a59a-d4598103a5d7",
   "metadata": {},
   "source": [
    "Even though the F-score and recall in the prediction of class 31 (Uu) are low, the model is still able to successfully predict it at its most extreme values."
   ]
  },
  {
   "cell_type": "code",
   "execution_count": 28,
   "id": "98048196-001e-4021-a095-a5896ca3d4d9",
   "metadata": {
    "scrolled": true
   },
   "outputs": [
    {
     "data": {
      "image/png": "[encoded data removed]",
      "text/plain": [
       "<Figure size 640x480 with 1 Axes>"
      ]
     },
     "metadata": {},
     "output_type": "display_data"
    },
    {
     "data": {
      "image/png": "[encoded data removed]",
      "text/plain": [
       "<Figure size 640x480 with 1 Axes>"
      ]
     },
     "metadata": {},
     "output_type": "display_data"
    },
    {
     "ename": "KeyboardInterrupt",
     "evalue": "",
     "output_type": "error",
     "traceback": [
      "\u001b[31m---------------------------------------------------------------------------\u001b[39m",
      "\u001b[31mKeyboardInterrupt\u001b[39m                         Traceback (most recent call last)",
      "\u001b[36mCell\u001b[39m\u001b[36m \u001b[39m\u001b[32mIn[28]\u001b[39m\u001b[32m, line 3\u001b[39m\n\u001b[32m      1\u001b[39m \u001b[38;5;28;01mfor\u001b[39;00m arbol \u001b[38;5;129;01min\u001b[39;00m model.estimators_:\n\u001b[32m      2\u001b[39m     tree.plot_tree(arbol, feature_names=new_features)\n\u001b[32m----> \u001b[39m\u001b[32m3\u001b[39m     \u001b[43mplt\u001b[49m\u001b[43m.\u001b[49m\u001b[43mshow\u001b[49m\u001b[43m(\u001b[49m\u001b[43m)\u001b[49m\n",
      "\u001b[36mFile \u001b[39m\u001b[32m~/miniconda3/lib/python3.12/site-packages/matplotlib/pyplot.py:614\u001b[39m, in \u001b[36mshow\u001b[39m\u001b[34m(*args, **kwargs)\u001b[39m\n\u001b[32m    570\u001b[39m \u001b[38;5;250m\u001b[39m\u001b[33;03m\"\"\"\u001b[39;00m\n\u001b[32m    571\u001b[39m \u001b[33;03mDisplay all open figures.\u001b[39;00m\n\u001b[32m    572\u001b[39m \n\u001b[32m   (...)\u001b[39m\u001b[32m    611\u001b[39m \u001b[33;03mexplicitly there.\u001b[39;00m\n\u001b[32m    612\u001b[39m \u001b[33;03m\"\"\"\u001b[39;00m\n\u001b[32m    613\u001b[39m _warn_if_gui_out_of_main_thread()\n\u001b[32m--> \u001b[39m\u001b[32m614\u001b[39m \u001b[38;5;28;01mreturn\u001b[39;00m \u001b[43m_get_backend_mod\u001b[49m\u001b[43m(\u001b[49m\u001b[43m)\u001b[49m\u001b[43m.\u001b[49m\u001b[43mshow\u001b[49m\u001b[43m(\u001b[49m\u001b[43m*\u001b[49m\u001b[43margs\u001b[49m\u001b[43m,\u001b[49m\u001b[43m \u001b[49m\u001b[43m*\u001b[49m\u001b[43m*\u001b[49m\u001b[43mkwargs\u001b[49m\u001b[43m)\u001b[49m\n",
      "\u001b[36mFile \u001b[39m\u001b[32m~/miniconda3/lib/python3.12/site-packages/matplotlib_inline/backend_inline.py:90\u001b[39m, in \u001b[36mshow\u001b[39m\u001b[34m(close, block)\u001b[39m\n\u001b[32m     88\u001b[39m \u001b[38;5;28;01mtry\u001b[39;00m:\n\u001b[32m     89\u001b[39m     \u001b[38;5;28;01mfor\u001b[39;00m figure_manager \u001b[38;5;129;01min\u001b[39;00m Gcf.get_all_fig_managers():\n\u001b[32m---> \u001b[39m\u001b[32m90\u001b[39m         \u001b[43mdisplay\u001b[49m\u001b[43m(\u001b[49m\n\u001b[32m     91\u001b[39m \u001b[43m            \u001b[49m\u001b[43mfigure_manager\u001b[49m\u001b[43m.\u001b[49m\u001b[43mcanvas\u001b[49m\u001b[43m.\u001b[49m\u001b[43mfigure\u001b[49m\u001b[43m,\u001b[49m\n\u001b[32m     92\u001b[39m \u001b[43m            \u001b[49m\u001b[43mmetadata\u001b[49m\u001b[43m=\u001b[49m\u001b[43m_fetch_figure_metadata\u001b[49m\u001b[43m(\u001b[49m\u001b[43mfigure_manager\u001b[49m\u001b[43m.\u001b[49m\u001b[43mcanvas\u001b[49m\u001b[43m.\u001b[49m\u001b[43mfigure\u001b[49m\u001b[43m)\u001b[49m\n\u001b[32m     93\u001b[39m \u001b[43m        \u001b[49m\u001b[43m)\u001b[49m\n\u001b[32m     94\u001b[39m \u001b[38;5;28;01mfinally\u001b[39;00m:\n\u001b[32m     95\u001b[39m     show._to_draw = []\n",
      "\u001b[36mFile \u001b[39m\u001b[32m~/miniconda3/lib/python3.12/site-packages/IPython/core/display_functions.py:278\u001b[39m, in \u001b[36mdisplay\u001b[39m\u001b[34m(include, exclude, metadata, transient, display_id, raw, clear, *objs, **kwargs)\u001b[39m\n\u001b[32m    276\u001b[39m     publish_display_data(data=obj, metadata=metadata, **kwargs)\n\u001b[32m    277\u001b[39m \u001b[38;5;28;01melse\u001b[39;00m:\n\u001b[32m--> \u001b[39m\u001b[32m278\u001b[39m     format_dict, md_dict = \u001b[38;5;28;43mformat\u001b[39;49m\u001b[43m(\u001b[49m\u001b[43mobj\u001b[49m\u001b[43m,\u001b[49m\u001b[43m \u001b[49m\u001b[43minclude\u001b[49m\u001b[43m=\u001b[49m\u001b[43minclude\u001b[49m\u001b[43m,\u001b[49m\u001b[43m \u001b[49m\u001b[43mexclude\u001b[49m\u001b[43m=\u001b[49m\u001b[43mexclude\u001b[49m\u001b[43m)\u001b[49m\n\u001b[32m    279\u001b[39m     \u001b[38;5;28;01mif\u001b[39;00m \u001b[38;5;129;01mnot\u001b[39;00m format_dict:\n\u001b[32m    280\u001b[39m         \u001b[38;5;66;03m# nothing to display (e.g. _ipython_display_ took over)\u001b[39;00m\n\u001b[32m    281\u001b[39m         \u001b[38;5;28;01mcontinue\u001b[39;00m\n",
      "\u001b[36mFile \u001b[39m\u001b[32m~/miniconda3/lib/python3.12/site-packages/IPython/core/formatters.py:238\u001b[39m, in \u001b[36mDisplayFormatter.format\u001b[39m\u001b[34m(self, obj, include, exclude)\u001b[39m\n\u001b[32m    236\u001b[39m md = \u001b[38;5;28;01mNone\u001b[39;00m\n\u001b[32m    237\u001b[39m \u001b[38;5;28;01mtry\u001b[39;00m:\n\u001b[32m--> \u001b[39m\u001b[32m238\u001b[39m     data = \u001b[43mformatter\u001b[49m\u001b[43m(\u001b[49m\u001b[43mobj\u001b[49m\u001b[43m)\u001b[49m\n\u001b[32m    239\u001b[39m \u001b[38;5;28;01mexcept\u001b[39;00m:\n\u001b[32m    240\u001b[39m     \u001b[38;5;66;03m# FIXME: log the exception\u001b[39;00m\n\u001b[32m    241\u001b[39m     \u001b[38;5;28;01mraise\u001b[39;00m\n",
      "\u001b[36mFile \u001b[39m\u001b[32m~/miniconda3/lib/python3.12/site-packages/decorator.py:235\u001b[39m, in \u001b[36mdecorate.<locals>.fun\u001b[39m\u001b[34m(*args, **kw)\u001b[39m\n\u001b[32m    233\u001b[39m \u001b[38;5;28;01mif\u001b[39;00m \u001b[38;5;129;01mnot\u001b[39;00m kwsyntax:\n\u001b[32m    234\u001b[39m     args, kw = fix(args, kw, sig)\n\u001b[32m--> \u001b[39m\u001b[32m235\u001b[39m \u001b[38;5;28;01mreturn\u001b[39;00m \u001b[43mcaller\u001b[49m\u001b[43m(\u001b[49m\u001b[43mfunc\u001b[49m\u001b[43m,\u001b[49m\u001b[43m \u001b[49m\u001b[43m*\u001b[49m\u001b[43m(\u001b[49m\u001b[43mextras\u001b[49m\u001b[43m \u001b[49m\u001b[43m+\u001b[49m\u001b[43m \u001b[49m\u001b[43margs\u001b[49m\u001b[43m)\u001b[49m\u001b[43m,\u001b[49m\u001b[43m \u001b[49m\u001b[43m*\u001b[49m\u001b[43m*\u001b[49m\u001b[43mkw\u001b[49m\u001b[43m)\u001b[49m\n",
      "\u001b[36mFile \u001b[39m\u001b[32m~/miniconda3/lib/python3.12/site-packages/IPython/core/formatters.py:282\u001b[39m, in \u001b[36mcatch_format_error\u001b[39m\u001b[34m(method, self, *args, **kwargs)\u001b[39m\n\u001b[32m    280\u001b[39m \u001b[38;5;250m\u001b[39m\u001b[33;03m\"\"\"show traceback on failed format call\"\"\"\u001b[39;00m\n\u001b[32m    281\u001b[39m \u001b[38;5;28;01mtry\u001b[39;00m:\n\u001b[32m--> \u001b[39m\u001b[32m282\u001b[39m     r = \u001b[43mmethod\u001b[49m\u001b[43m(\u001b[49m\u001b[38;5;28;43mself\u001b[39;49m\u001b[43m,\u001b[49m\u001b[43m \u001b[49m\u001b[43m*\u001b[49m\u001b[43margs\u001b[49m\u001b[43m,\u001b[49m\u001b[43m \u001b[49m\u001b[43m*\u001b[49m\u001b[43m*\u001b[49m\u001b[43mkwargs\u001b[49m\u001b[43m)\u001b[49m\n\u001b[32m    283\u001b[39m \u001b[38;5;28;01mexcept\u001b[39;00m \u001b[38;5;167;01mNotImplementedError\u001b[39;00m:\n\u001b[32m    284\u001b[39m     \u001b[38;5;66;03m# don't warn on NotImplementedErrors\u001b[39;00m\n\u001b[32m    285\u001b[39m     \u001b[38;5;28;01mreturn\u001b[39;00m \u001b[38;5;28mself\u001b[39m._check_return(\u001b[38;5;28;01mNone\u001b[39;00m, args[\u001b[32m0\u001b[39m])\n",
      "\u001b[36mFile \u001b[39m\u001b[32m~/miniconda3/lib/python3.12/site-packages/IPython/core/formatters.py:402\u001b[39m, in \u001b[36mBaseFormatter.__call__\u001b[39m\u001b[34m(self, obj)\u001b[39m\n\u001b[32m    400\u001b[39m     \u001b[38;5;28;01mpass\u001b[39;00m\n\u001b[32m    401\u001b[39m \u001b[38;5;28;01melse\u001b[39;00m:\n\u001b[32m--> \u001b[39m\u001b[32m402\u001b[39m     \u001b[38;5;28;01mreturn\u001b[39;00m \u001b[43mprinter\u001b[49m\u001b[43m(\u001b[49m\u001b[43mobj\u001b[49m\u001b[43m)\u001b[49m\n\u001b[32m    403\u001b[39m \u001b[38;5;66;03m# Finally look for special method names\u001b[39;00m\n\u001b[32m    404\u001b[39m method = get_real_method(obj, \u001b[38;5;28mself\u001b[39m.print_method)\n",
      "\u001b[36mFile \u001b[39m\u001b[32m~/miniconda3/lib/python3.12/site-packages/IPython/core/pylabtools.py:170\u001b[39m, in \u001b[36mprint_figure\u001b[39m\u001b[34m(fig, fmt, bbox_inches, base64, **kwargs)\u001b[39m\n\u001b[32m    167\u001b[39m     \u001b[38;5;28;01mfrom\u001b[39;00m \u001b[34;01mmatplotlib\u001b[39;00m\u001b[34;01m.\u001b[39;00m\u001b[34;01mbackend_bases\u001b[39;00m \u001b[38;5;28;01mimport\u001b[39;00m FigureCanvasBase\n\u001b[32m    168\u001b[39m     FigureCanvasBase(fig)\n\u001b[32m--> \u001b[39m\u001b[32m170\u001b[39m \u001b[43mfig\u001b[49m\u001b[43m.\u001b[49m\u001b[43mcanvas\u001b[49m\u001b[43m.\u001b[49m\u001b[43mprint_figure\u001b[49m\u001b[43m(\u001b[49m\u001b[43mbytes_io\u001b[49m\u001b[43m,\u001b[49m\u001b[43m \u001b[49m\u001b[43m*\u001b[49m\u001b[43m*\u001b[49m\u001b[43mkw\u001b[49m\u001b[43m)\u001b[49m\n\u001b[32m    171\u001b[39m data = bytes_io.getvalue()\n\u001b[32m    172\u001b[39m \u001b[38;5;28;01mif\u001b[39;00m fmt == \u001b[33m'\u001b[39m\u001b[33msvg\u001b[39m\u001b[33m'\u001b[39m:\n",
      "\u001b[36mFile \u001b[39m\u001b[32m~/miniconda3/lib/python3.12/site-packages/matplotlib/backend_bases.py:2184\u001b[39m, in \u001b[36mFigureCanvasBase.print_figure\u001b[39m\u001b[34m(self, filename, dpi, facecolor, edgecolor, orientation, format, bbox_inches, pad_inches, bbox_extra_artists, backend, **kwargs)\u001b[39m\n\u001b[32m   2180\u001b[39m \u001b[38;5;28;01mtry\u001b[39;00m:\n\u001b[32m   2181\u001b[39m     \u001b[38;5;66;03m# _get_renderer may change the figure dpi (as vector formats\u001b[39;00m\n\u001b[32m   2182\u001b[39m     \u001b[38;5;66;03m# force the figure dpi to 72), so we need to set it again here.\u001b[39;00m\n\u001b[32m   2183\u001b[39m     \u001b[38;5;28;01mwith\u001b[39;00m cbook._setattr_cm(\u001b[38;5;28mself\u001b[39m.figure, dpi=dpi):\n\u001b[32m-> \u001b[39m\u001b[32m2184\u001b[39m         result = \u001b[43mprint_method\u001b[49m\u001b[43m(\u001b[49m\n\u001b[32m   2185\u001b[39m \u001b[43m            \u001b[49m\u001b[43mfilename\u001b[49m\u001b[43m,\u001b[49m\n\u001b[32m   2186\u001b[39m \u001b[43m            \u001b[49m\u001b[43mfacecolor\u001b[49m\u001b[43m=\u001b[49m\u001b[43mfacecolor\u001b[49m\u001b[43m,\u001b[49m\n\u001b[32m   2187\u001b[39m \u001b[43m            \u001b[49m\u001b[43medgecolor\u001b[49m\u001b[43m=\u001b[49m\u001b[43medgecolor\u001b[49m\u001b[43m,\u001b[49m\n\u001b[32m   2188\u001b[39m \u001b[43m            \u001b[49m\u001b[43morientation\u001b[49m\u001b[43m=\u001b[49m\u001b[43morientation\u001b[49m\u001b[43m,\u001b[49m\n\u001b[32m   2189\u001b[39m \u001b[43m            \u001b[49m\u001b[43mbbox_inches_restore\u001b[49m\u001b[43m=\u001b[49m\u001b[43m_bbox_inches_restore\u001b[49m\u001b[43m,\u001b[49m\n\u001b[32m   2190\u001b[39m \u001b[43m            \u001b[49m\u001b[43m*\u001b[49m\u001b[43m*\u001b[49m\u001b[43mkwargs\u001b[49m\u001b[43m)\u001b[49m\n\u001b[32m   2191\u001b[39m \u001b[38;5;28;01mfinally\u001b[39;00m:\n\u001b[32m   2192\u001b[39m     \u001b[38;5;28;01mif\u001b[39;00m bbox_inches \u001b[38;5;129;01mand\u001b[39;00m restore_bbox:\n",
      "\u001b[36mFile \u001b[39m\u001b[32m~/miniconda3/lib/python3.12/site-packages/matplotlib/backend_bases.py:2040\u001b[39m, in \u001b[36mFigureCanvasBase._switch_canvas_and_return_print_method.<locals>.<lambda>\u001b[39m\u001b[34m(*args, **kwargs)\u001b[39m\n\u001b[32m   2036\u001b[39m     optional_kws = {  \u001b[38;5;66;03m# Passed by print_figure for other renderers.\u001b[39;00m\n\u001b[32m   2037\u001b[39m         \u001b[33m\"\u001b[39m\u001b[33mdpi\u001b[39m\u001b[33m\"\u001b[39m, \u001b[33m\"\u001b[39m\u001b[33mfacecolor\u001b[39m\u001b[33m\"\u001b[39m, \u001b[33m\"\u001b[39m\u001b[33medgecolor\u001b[39m\u001b[33m\"\u001b[39m, \u001b[33m\"\u001b[39m\u001b[33morientation\u001b[39m\u001b[33m\"\u001b[39m,\n\u001b[32m   2038\u001b[39m         \u001b[33m\"\u001b[39m\u001b[33mbbox_inches_restore\u001b[39m\u001b[33m\"\u001b[39m}\n\u001b[32m   2039\u001b[39m     skip = optional_kws - {*inspect.signature(meth).parameters}\n\u001b[32m-> \u001b[39m\u001b[32m2040\u001b[39m     print_method = functools.wraps(meth)(\u001b[38;5;28;01mlambda\u001b[39;00m *args, **kwargs: \u001b[43mmeth\u001b[49m\u001b[43m(\u001b[49m\n\u001b[32m   2041\u001b[39m \u001b[43m        \u001b[49m\u001b[43m*\u001b[49m\u001b[43margs\u001b[49m\u001b[43m,\u001b[49m\u001b[43m \u001b[49m\u001b[43m*\u001b[49m\u001b[43m*\u001b[49m\u001b[43m{\u001b[49m\u001b[43mk\u001b[49m\u001b[43m:\u001b[49m\u001b[43m \u001b[49m\u001b[43mv\u001b[49m\u001b[43m \u001b[49m\u001b[38;5;28;43;01mfor\u001b[39;49;00m\u001b[43m \u001b[49m\u001b[43mk\u001b[49m\u001b[43m,\u001b[49m\u001b[43m \u001b[49m\u001b[43mv\u001b[49m\u001b[43m \u001b[49m\u001b[38;5;129;43;01min\u001b[39;49;00m\u001b[43m \u001b[49m\u001b[43mkwargs\u001b[49m\u001b[43m.\u001b[49m\u001b[43mitems\u001b[49m\u001b[43m(\u001b[49m\u001b[43m)\u001b[49m\u001b[43m \u001b[49m\u001b[38;5;28;43;01mif\u001b[39;49;00m\u001b[43m \u001b[49m\u001b[43mk\u001b[49m\u001b[43m \u001b[49m\u001b[38;5;129;43;01mnot\u001b[39;49;00m\u001b[43m \u001b[49m\u001b[38;5;129;43;01min\u001b[39;49;00m\u001b[43m \u001b[49m\u001b[43mskip\u001b[49m\u001b[43m}\u001b[49m\u001b[43m)\u001b[49m)\n\u001b[32m   2042\u001b[39m \u001b[38;5;28;01melse\u001b[39;00m:  \u001b[38;5;66;03m# Let third-parties do as they see fit.\u001b[39;00m\n\u001b[32m   2043\u001b[39m     print_method = meth\n",
      "\u001b[36mFile \u001b[39m\u001b[32m~/miniconda3/lib/python3.12/site-packages/matplotlib/backends/backend_agg.py:481\u001b[39m, in \u001b[36mFigureCanvasAgg.print_png\u001b[39m\u001b[34m(self, filename_or_obj, metadata, pil_kwargs)\u001b[39m\n\u001b[32m    434\u001b[39m \u001b[38;5;28;01mdef\u001b[39;00m \u001b[34mprint_png\u001b[39m(\u001b[38;5;28mself\u001b[39m, filename_or_obj, *, metadata=\u001b[38;5;28;01mNone\u001b[39;00m, pil_kwargs=\u001b[38;5;28;01mNone\u001b[39;00m):\n\u001b[32m    435\u001b[39m \u001b[38;5;250m    \u001b[39m\u001b[33;03m\"\"\"\u001b[39;00m\n\u001b[32m    436\u001b[39m \u001b[33;03m    Write the figure to a PNG file.\u001b[39;00m\n\u001b[32m    437\u001b[39m \n\u001b[32m   (...)\u001b[39m\u001b[32m    479\u001b[39m \u001b[33;03m        *metadata*, including the default 'Software' key.\u001b[39;00m\n\u001b[32m    480\u001b[39m \u001b[33;03m    \"\"\"\u001b[39;00m\n\u001b[32m--> \u001b[39m\u001b[32m481\u001b[39m     \u001b[38;5;28;43mself\u001b[39;49m\u001b[43m.\u001b[49m\u001b[43m_print_pil\u001b[49m\u001b[43m(\u001b[49m\u001b[43mfilename_or_obj\u001b[49m\u001b[43m,\u001b[49m\u001b[43m \u001b[49m\u001b[33;43m\"\u001b[39;49m\u001b[33;43mpng\u001b[39;49m\u001b[33;43m\"\u001b[39;49m\u001b[43m,\u001b[49m\u001b[43m \u001b[49m\u001b[43mpil_kwargs\u001b[49m\u001b[43m,\u001b[49m\u001b[43m \u001b[49m\u001b[43mmetadata\u001b[49m\u001b[43m)\u001b[49m\n",
      "\u001b[36mFile \u001b[39m\u001b[32m~/miniconda3/lib/python3.12/site-packages/matplotlib/backends/backend_agg.py:429\u001b[39m, in \u001b[36mFigureCanvasAgg._print_pil\u001b[39m\u001b[34m(self, filename_or_obj, fmt, pil_kwargs, metadata)\u001b[39m\n\u001b[32m    424\u001b[39m \u001b[38;5;28;01mdef\u001b[39;00m \u001b[34m_print_pil\u001b[39m(\u001b[38;5;28mself\u001b[39m, filename_or_obj, fmt, pil_kwargs, metadata=\u001b[38;5;28;01mNone\u001b[39;00m):\n\u001b[32m    425\u001b[39m \u001b[38;5;250m    \u001b[39m\u001b[33;03m\"\"\"\u001b[39;00m\n\u001b[32m    426\u001b[39m \u001b[33;03m    Draw the canvas, then save it using `.image.imsave` (to which\u001b[39;00m\n\u001b[32m    427\u001b[39m \u001b[33;03m    *pil_kwargs* and *metadata* are forwarded).\u001b[39;00m\n\u001b[32m    428\u001b[39m \u001b[33;03m    \"\"\"\u001b[39;00m\n\u001b[32m--> \u001b[39m\u001b[32m429\u001b[39m     \u001b[43mFigureCanvasAgg\u001b[49m\u001b[43m.\u001b[49m\u001b[43mdraw\u001b[49m\u001b[43m(\u001b[49m\u001b[38;5;28;43mself\u001b[39;49m\u001b[43m)\u001b[49m\n\u001b[32m    430\u001b[39m     mpl.image.imsave(\n\u001b[32m    431\u001b[39m         filename_or_obj, \u001b[38;5;28mself\u001b[39m.buffer_rgba(), \u001b[38;5;28mformat\u001b[39m=fmt, origin=\u001b[33m\"\u001b[39m\u001b[33mupper\u001b[39m\u001b[33m\"\u001b[39m,\n\u001b[32m    432\u001b[39m         dpi=\u001b[38;5;28mself\u001b[39m.figure.dpi, metadata=metadata, pil_kwargs=pil_kwargs)\n",
      "\u001b[36mFile \u001b[39m\u001b[32m~/miniconda3/lib/python3.12/site-packages/matplotlib/backends/backend_agg.py:382\u001b[39m, in \u001b[36mFigureCanvasAgg.draw\u001b[39m\u001b[34m(self)\u001b[39m\n\u001b[32m    379\u001b[39m \u001b[38;5;66;03m# Acquire a lock on the shared font cache.\u001b[39;00m\n\u001b[32m    380\u001b[39m \u001b[38;5;28;01mwith\u001b[39;00m (\u001b[38;5;28mself\u001b[39m.toolbar._wait_cursor_for_draw_cm() \u001b[38;5;28;01mif\u001b[39;00m \u001b[38;5;28mself\u001b[39m.toolbar\n\u001b[32m    381\u001b[39m       \u001b[38;5;28;01melse\u001b[39;00m nullcontext()):\n\u001b[32m--> \u001b[39m\u001b[32m382\u001b[39m     \u001b[38;5;28;43mself\u001b[39;49m\u001b[43m.\u001b[49m\u001b[43mfigure\u001b[49m\u001b[43m.\u001b[49m\u001b[43mdraw\u001b[49m\u001b[43m(\u001b[49m\u001b[38;5;28;43mself\u001b[39;49m\u001b[43m.\u001b[49m\u001b[43mrenderer\u001b[49m\u001b[43m)\u001b[49m\n\u001b[32m    383\u001b[39m     \u001b[38;5;66;03m# A GUI class may be need to update a window using this draw, so\u001b[39;00m\n\u001b[32m    384\u001b[39m     \u001b[38;5;66;03m# don't forget to call the superclass.\u001b[39;00m\n\u001b[32m    385\u001b[39m     \u001b[38;5;28msuper\u001b[39m().draw()\n",
      "\u001b[36mFile \u001b[39m\u001b[32m~/miniconda3/lib/python3.12/site-packages/matplotlib/artist.py:94\u001b[39m, in \u001b[36m_finalize_rasterization.<locals>.draw_wrapper\u001b[39m\u001b[34m(artist, renderer, *args, **kwargs)\u001b[39m\n\u001b[32m     92\u001b[39m \u001b[38;5;129m@wraps\u001b[39m(draw)\n\u001b[32m     93\u001b[39m \u001b[38;5;28;01mdef\u001b[39;00m \u001b[34mdraw_wrapper\u001b[39m(artist, renderer, *args, **kwargs):\n\u001b[32m---> \u001b[39m\u001b[32m94\u001b[39m     result = \u001b[43mdraw\u001b[49m\u001b[43m(\u001b[49m\u001b[43martist\u001b[49m\u001b[43m,\u001b[49m\u001b[43m \u001b[49m\u001b[43mrenderer\u001b[49m\u001b[43m,\u001b[49m\u001b[43m \u001b[49m\u001b[43m*\u001b[49m\u001b[43margs\u001b[49m\u001b[43m,\u001b[49m\u001b[43m \u001b[49m\u001b[43m*\u001b[49m\u001b[43m*\u001b[49m\u001b[43mkwargs\u001b[49m\u001b[43m)\u001b[49m\n\u001b[32m     95\u001b[39m     \u001b[38;5;28;01mif\u001b[39;00m renderer._rasterizing:\n\u001b[32m     96\u001b[39m         renderer.stop_rasterizing()\n",
      "\u001b[36mFile \u001b[39m\u001b[32m~/miniconda3/lib/python3.12/site-packages/matplotlib/artist.py:71\u001b[39m, in \u001b[36mallow_rasterization.<locals>.draw_wrapper\u001b[39m\u001b[34m(artist, renderer)\u001b[39m\n\u001b[32m     68\u001b[39m     \u001b[38;5;28;01mif\u001b[39;00m artist.get_agg_filter() \u001b[38;5;129;01mis\u001b[39;00m \u001b[38;5;129;01mnot\u001b[39;00m \u001b[38;5;28;01mNone\u001b[39;00m:\n\u001b[32m     69\u001b[39m         renderer.start_filter()\n\u001b[32m---> \u001b[39m\u001b[32m71\u001b[39m     \u001b[38;5;28;01mreturn\u001b[39;00m \u001b[43mdraw\u001b[49m\u001b[43m(\u001b[49m\u001b[43martist\u001b[49m\u001b[43m,\u001b[49m\u001b[43m \u001b[49m\u001b[43mrenderer\u001b[49m\u001b[43m)\u001b[49m\n\u001b[32m     72\u001b[39m \u001b[38;5;28;01mfinally\u001b[39;00m:\n\u001b[32m     73\u001b[39m     \u001b[38;5;28;01mif\u001b[39;00m artist.get_agg_filter() \u001b[38;5;129;01mis\u001b[39;00m \u001b[38;5;129;01mnot\u001b[39;00m \u001b[38;5;28;01mNone\u001b[39;00m:\n",
      "\u001b[36mFile \u001b[39m\u001b[32m~/miniconda3/lib/python3.12/site-packages/matplotlib/figure.py:3257\u001b[39m, in \u001b[36mFigure.draw\u001b[39m\u001b[34m(self, renderer)\u001b[39m\n\u001b[32m   3254\u001b[39m             \u001b[38;5;66;03m# ValueError can occur when resizing a window.\u001b[39;00m\n\u001b[32m   3256\u001b[39m     \u001b[38;5;28mself\u001b[39m.patch.draw(renderer)\n\u001b[32m-> \u001b[39m\u001b[32m3257\u001b[39m     \u001b[43mmimage\u001b[49m\u001b[43m.\u001b[49m\u001b[43m_draw_list_compositing_images\u001b[49m\u001b[43m(\u001b[49m\n\u001b[32m   3258\u001b[39m \u001b[43m        \u001b[49m\u001b[43mrenderer\u001b[49m\u001b[43m,\u001b[49m\u001b[43m \u001b[49m\u001b[38;5;28;43mself\u001b[39;49m\u001b[43m,\u001b[49m\u001b[43m \u001b[49m\u001b[43martists\u001b[49m\u001b[43m,\u001b[49m\u001b[43m \u001b[49m\u001b[38;5;28;43mself\u001b[39;49m\u001b[43m.\u001b[49m\u001b[43msuppressComposite\u001b[49m\u001b[43m)\u001b[49m\n\u001b[32m   3260\u001b[39m     renderer.close_group(\u001b[33m'\u001b[39m\u001b[33mfigure\u001b[39m\u001b[33m'\u001b[39m)\n\u001b[32m   3261\u001b[39m \u001b[38;5;28;01mfinally\u001b[39;00m:\n",
      "\u001b[36mFile \u001b[39m\u001b[32m~/miniconda3/lib/python3.12/site-packages/matplotlib/image.py:134\u001b[39m, in \u001b[36m_draw_list_compositing_images\u001b[39m\u001b[34m(renderer, parent, artists, suppress_composite)\u001b[39m\n\u001b[32m    132\u001b[39m \u001b[38;5;28;01mif\u001b[39;00m not_composite \u001b[38;5;129;01mor\u001b[39;00m \u001b[38;5;129;01mnot\u001b[39;00m has_images:\n\u001b[32m    133\u001b[39m     \u001b[38;5;28;01mfor\u001b[39;00m a \u001b[38;5;129;01min\u001b[39;00m artists:\n\u001b[32m--> \u001b[39m\u001b[32m134\u001b[39m         \u001b[43ma\u001b[49m\u001b[43m.\u001b[49m\u001b[43mdraw\u001b[49m\u001b[43m(\u001b[49m\u001b[43mrenderer\u001b[49m\u001b[43m)\u001b[49m\n\u001b[32m    135\u001b[39m \u001b[38;5;28;01melse\u001b[39;00m:\n\u001b[32m    136\u001b[39m     \u001b[38;5;66;03m# Composite any adjacent images together\u001b[39;00m\n\u001b[32m    137\u001b[39m     image_group = []\n",
      "\u001b[36mFile \u001b[39m\u001b[32m~/miniconda3/lib/python3.12/site-packages/matplotlib/artist.py:71\u001b[39m, in \u001b[36mallow_rasterization.<locals>.draw_wrapper\u001b[39m\u001b[34m(artist, renderer)\u001b[39m\n\u001b[32m     68\u001b[39m     \u001b[38;5;28;01mif\u001b[39;00m artist.get_agg_filter() \u001b[38;5;129;01mis\u001b[39;00m \u001b[38;5;129;01mnot\u001b[39;00m \u001b[38;5;28;01mNone\u001b[39;00m:\n\u001b[32m     69\u001b[39m         renderer.start_filter()\n\u001b[32m---> \u001b[39m\u001b[32m71\u001b[39m     \u001b[38;5;28;01mreturn\u001b[39;00m \u001b[43mdraw\u001b[49m\u001b[43m(\u001b[49m\u001b[43martist\u001b[49m\u001b[43m,\u001b[49m\u001b[43m \u001b[49m\u001b[43mrenderer\u001b[49m\u001b[43m)\u001b[49m\n\u001b[32m     72\u001b[39m \u001b[38;5;28;01mfinally\u001b[39;00m:\n\u001b[32m     73\u001b[39m     \u001b[38;5;28;01mif\u001b[39;00m artist.get_agg_filter() \u001b[38;5;129;01mis\u001b[39;00m \u001b[38;5;129;01mnot\u001b[39;00m \u001b[38;5;28;01mNone\u001b[39;00m:\n",
      "\u001b[36mFile \u001b[39m\u001b[32m~/miniconda3/lib/python3.12/site-packages/matplotlib/axes/_base.py:3210\u001b[39m, in \u001b[36m_AxesBase.draw\u001b[39m\u001b[34m(self, renderer)\u001b[39m\n\u001b[32m   3207\u001b[39m \u001b[38;5;28;01mif\u001b[39;00m artists_rasterized:\n\u001b[32m   3208\u001b[39m     _draw_rasterized(\u001b[38;5;28mself\u001b[39m.get_figure(root=\u001b[38;5;28;01mTrue\u001b[39;00m), artists_rasterized, renderer)\n\u001b[32m-> \u001b[39m\u001b[32m3210\u001b[39m \u001b[43mmimage\u001b[49m\u001b[43m.\u001b[49m\u001b[43m_draw_list_compositing_images\u001b[49m\u001b[43m(\u001b[49m\n\u001b[32m   3211\u001b[39m \u001b[43m    \u001b[49m\u001b[43mrenderer\u001b[49m\u001b[43m,\u001b[49m\u001b[43m \u001b[49m\u001b[38;5;28;43mself\u001b[39;49m\u001b[43m,\u001b[49m\u001b[43m \u001b[49m\u001b[43martists\u001b[49m\u001b[43m,\u001b[49m\u001b[43m \u001b[49m\u001b[38;5;28;43mself\u001b[39;49m\u001b[43m.\u001b[49m\u001b[43mget_figure\u001b[49m\u001b[43m(\u001b[49m\u001b[43mroot\u001b[49m\u001b[43m=\u001b[49m\u001b[38;5;28;43;01mTrue\u001b[39;49;00m\u001b[43m)\u001b[49m\u001b[43m.\u001b[49m\u001b[43msuppressComposite\u001b[49m\u001b[43m)\u001b[49m\n\u001b[32m   3213\u001b[39m renderer.close_group(\u001b[33m'\u001b[39m\u001b[33maxes\u001b[39m\u001b[33m'\u001b[39m)\n\u001b[32m   3214\u001b[39m \u001b[38;5;28mself\u001b[39m.stale = \u001b[38;5;28;01mFalse\u001b[39;00m\n",
      "\u001b[36mFile \u001b[39m\u001b[32m~/miniconda3/lib/python3.12/site-packages/matplotlib/image.py:134\u001b[39m, in \u001b[36m_draw_list_compositing_images\u001b[39m\u001b[34m(renderer, parent, artists, suppress_composite)\u001b[39m\n\u001b[32m    132\u001b[39m \u001b[38;5;28;01mif\u001b[39;00m not_composite \u001b[38;5;129;01mor\u001b[39;00m \u001b[38;5;129;01mnot\u001b[39;00m has_images:\n\u001b[32m    133\u001b[39m     \u001b[38;5;28;01mfor\u001b[39;00m a \u001b[38;5;129;01min\u001b[39;00m artists:\n\u001b[32m--> \u001b[39m\u001b[32m134\u001b[39m         \u001b[43ma\u001b[49m\u001b[43m.\u001b[49m\u001b[43mdraw\u001b[49m\u001b[43m(\u001b[49m\u001b[43mrenderer\u001b[49m\u001b[43m)\u001b[49m\n\u001b[32m    135\u001b[39m \u001b[38;5;28;01melse\u001b[39;00m:\n\u001b[32m    136\u001b[39m     \u001b[38;5;66;03m# Composite any adjacent images together\u001b[39;00m\n\u001b[32m    137\u001b[39m     image_group = []\n",
      "\u001b[36mFile \u001b[39m\u001b[32m~/miniconda3/lib/python3.12/site-packages/matplotlib/artist.py:71\u001b[39m, in \u001b[36mallow_rasterization.<locals>.draw_wrapper\u001b[39m\u001b[34m(artist, renderer)\u001b[39m\n\u001b[32m     68\u001b[39m     \u001b[38;5;28;01mif\u001b[39;00m artist.get_agg_filter() \u001b[38;5;129;01mis\u001b[39;00m \u001b[38;5;129;01mnot\u001b[39;00m \u001b[38;5;28;01mNone\u001b[39;00m:\n\u001b[32m     69\u001b[39m         renderer.start_filter()\n\u001b[32m---> \u001b[39m\u001b[32m71\u001b[39m     \u001b[38;5;28;01mreturn\u001b[39;00m \u001b[43mdraw\u001b[49m\u001b[43m(\u001b[49m\u001b[43martist\u001b[49m\u001b[43m,\u001b[49m\u001b[43m \u001b[49m\u001b[43mrenderer\u001b[49m\u001b[43m)\u001b[49m\n\u001b[32m     72\u001b[39m \u001b[38;5;28;01mfinally\u001b[39;00m:\n\u001b[32m     73\u001b[39m     \u001b[38;5;28;01mif\u001b[39;00m artist.get_agg_filter() \u001b[38;5;129;01mis\u001b[39;00m \u001b[38;5;129;01mnot\u001b[39;00m \u001b[38;5;28;01mNone\u001b[39;00m:\n",
      "\u001b[36mFile \u001b[39m\u001b[32m~/miniconda3/lib/python3.12/site-packages/matplotlib/text.py:2000\u001b[39m, in \u001b[36mAnnotation.draw\u001b[39m\u001b[34m(self, renderer)\u001b[39m\n\u001b[32m   1997\u001b[39m     \u001b[38;5;28;01mif\u001b[39;00m (\u001b[38;5;28mself\u001b[39m.arrow_patch.get_figure(root=\u001b[38;5;28;01mFalse\u001b[39;00m) \u001b[38;5;129;01mis\u001b[39;00m \u001b[38;5;28;01mNone\u001b[39;00m \u001b[38;5;129;01mand\u001b[39;00m\n\u001b[32m   1998\u001b[39m             (fig := \u001b[38;5;28mself\u001b[39m.get_figure(root=\u001b[38;5;28;01mFalse\u001b[39;00m)) \u001b[38;5;129;01mis\u001b[39;00m \u001b[38;5;129;01mnot\u001b[39;00m \u001b[38;5;28;01mNone\u001b[39;00m):\n\u001b[32m   1999\u001b[39m         \u001b[38;5;28mself\u001b[39m.arrow_patch.set_figure(fig)\n\u001b[32m-> \u001b[39m\u001b[32m2000\u001b[39m     \u001b[38;5;28;43mself\u001b[39;49m\u001b[43m.\u001b[49m\u001b[43marrow_patch\u001b[49m\u001b[43m.\u001b[49m\u001b[43mdraw\u001b[49m\u001b[43m(\u001b[49m\u001b[43mrenderer\u001b[49m\u001b[43m)\u001b[49m\n\u001b[32m   2001\u001b[39m \u001b[38;5;66;03m# Draw text, including FancyBboxPatch, after FancyArrowPatch.\u001b[39;00m\n\u001b[32m   2002\u001b[39m \u001b[38;5;66;03m# Otherwise, a wedge arrowstyle can land partly on top of the Bbox.\u001b[39;00m\n\u001b[32m   2003\u001b[39m Text.draw(\u001b[38;5;28mself\u001b[39m, renderer)\n",
      "\u001b[36mFile \u001b[39m\u001b[32m~/miniconda3/lib/python3.12/site-packages/matplotlib/artist.py:38\u001b[39m, in \u001b[36m_prevent_rasterization.<locals>.draw_wrapper\u001b[39m\u001b[34m(artist, renderer, *args, **kwargs)\u001b[39m\n\u001b[32m     35\u001b[39m     renderer.stop_rasterizing()\n\u001b[32m     36\u001b[39m     renderer._rasterizing = \u001b[38;5;28;01mFalse\u001b[39;00m\n\u001b[32m---> \u001b[39m\u001b[32m38\u001b[39m \u001b[38;5;28;01mreturn\u001b[39;00m \u001b[43mdraw\u001b[49m\u001b[43m(\u001b[49m\u001b[43martist\u001b[49m\u001b[43m,\u001b[49m\u001b[43m \u001b[49m\u001b[43mrenderer\u001b[49m\u001b[43m,\u001b[49m\u001b[43m \u001b[49m\u001b[43m*\u001b[49m\u001b[43margs\u001b[49m\u001b[43m,\u001b[49m\u001b[43m \u001b[49m\u001b[43m*\u001b[49m\u001b[43m*\u001b[49m\u001b[43mkwargs\u001b[49m\u001b[43m)\u001b[49m\n",
      "\u001b[36mFile \u001b[39m\u001b[32m~/miniconda3/lib/python3.12/site-packages/matplotlib/patches.py:4462\u001b[39m, in \u001b[36mFancyArrowPatch.draw\u001b[39m\u001b[34m(self, renderer)\u001b[39m\n\u001b[32m   4458\u001b[39m \u001b[38;5;66;03m# FIXME: dpi_cor is for the dpi-dependency of the linewidth.  There\u001b[39;00m\n\u001b[32m   4459\u001b[39m \u001b[38;5;66;03m# could be room for improvement.  Maybe _get_path_in_displaycoord could\u001b[39;00m\n\u001b[32m   4460\u001b[39m \u001b[38;5;66;03m# take a renderer argument, but get_path should be adapted too.\u001b[39;00m\n\u001b[32m   4461\u001b[39m \u001b[38;5;28mself\u001b[39m._dpi_cor = renderer.points_to_pixels(\u001b[32m1.\u001b[39m)\n\u001b[32m-> \u001b[39m\u001b[32m4462\u001b[39m path, fillable = \u001b[38;5;28;43mself\u001b[39;49m\u001b[43m.\u001b[49m\u001b[43m_get_path_in_displaycoord\u001b[49m\u001b[43m(\u001b[49m\u001b[43m)\u001b[49m\n\u001b[32m   4464\u001b[39m \u001b[38;5;28;01mif\u001b[39;00m \u001b[38;5;129;01mnot\u001b[39;00m np.iterable(fillable):\n\u001b[32m   4465\u001b[39m     path = [path]\n",
      "\u001b[36mFile \u001b[39m\u001b[32m~/miniconda3/lib/python3.12/site-packages/matplotlib/patches.py:4437\u001b[39m, in \u001b[36mFancyArrowPatch._get_path_in_displaycoord\u001b[39m\u001b[34m(self)\u001b[39m\n\u001b[32m   4435\u001b[39m     posB = \u001b[38;5;28mself\u001b[39m._convert_xy_units(\u001b[38;5;28mself\u001b[39m._posA_posB[\u001b[32m1\u001b[39m])\n\u001b[32m   4436\u001b[39m     (posA, posB) = \u001b[38;5;28mself\u001b[39m.get_transform().transform((posA, posB))\n\u001b[32m-> \u001b[39m\u001b[32m4437\u001b[39m     _path = \u001b[38;5;28;43mself\u001b[39;49m\u001b[43m.\u001b[49m\u001b[43mget_connectionstyle\u001b[49m\u001b[43m(\u001b[49m\u001b[43m)\u001b[49m\u001b[43m(\u001b[49m\u001b[43mposA\u001b[49m\u001b[43m,\u001b[49m\u001b[43m \u001b[49m\u001b[43mposB\u001b[49m\u001b[43m,\u001b[49m\n\u001b[32m   4438\u001b[39m \u001b[43m                                       \u001b[49m\u001b[43mpatchA\u001b[49m\u001b[43m=\u001b[49m\u001b[38;5;28;43mself\u001b[39;49m\u001b[43m.\u001b[49m\u001b[43mpatchA\u001b[49m\u001b[43m,\u001b[49m\n\u001b[32m   4439\u001b[39m \u001b[43m                                       \u001b[49m\u001b[43mpatchB\u001b[49m\u001b[43m=\u001b[49m\u001b[38;5;28;43mself\u001b[39;49m\u001b[43m.\u001b[49m\u001b[43mpatchB\u001b[49m\u001b[43m,\u001b[49m\n\u001b[32m   4440\u001b[39m \u001b[43m                                       \u001b[49m\u001b[43mshrinkA\u001b[49m\u001b[43m=\u001b[49m\u001b[38;5;28;43mself\u001b[39;49m\u001b[43m.\u001b[49m\u001b[43mshrinkA\u001b[49m\u001b[43m \u001b[49m\u001b[43m*\u001b[49m\u001b[43m \u001b[49m\u001b[43mdpi_cor\u001b[49m\u001b[43m,\u001b[49m\n\u001b[32m   4441\u001b[39m \u001b[43m                                       \u001b[49m\u001b[43mshrinkB\u001b[49m\u001b[43m=\u001b[49m\u001b[38;5;28;43mself\u001b[39;49m\u001b[43m.\u001b[49m\u001b[43mshrinkB\u001b[49m\u001b[43m \u001b[49m\u001b[43m*\u001b[49m\u001b[43m \u001b[49m\u001b[43mdpi_cor\u001b[49m\n\u001b[32m   4442\u001b[39m \u001b[43m                                       \u001b[49m\u001b[43m)\u001b[49m\n\u001b[32m   4443\u001b[39m \u001b[38;5;28;01melse\u001b[39;00m:\n\u001b[32m   4444\u001b[39m     _path = \u001b[38;5;28mself\u001b[39m.get_transform().transform_path(\u001b[38;5;28mself\u001b[39m._path_original)\n",
      "\u001b[36mFile \u001b[39m\u001b[32m~/miniconda3/lib/python3.12/site-packages/matplotlib/patches.py:2832\u001b[39m, in \u001b[36mConnectionStyle._Base.__call__\u001b[39m\u001b[34m(self, posA, posB, shrinkA, shrinkB, patchA, patchB)\u001b[39m\n\u001b[32m   2827\u001b[39m \u001b[38;5;250m\u001b[39m\u001b[33;03m\"\"\"\u001b[39;00m\n\u001b[32m   2828\u001b[39m \u001b[33;03mCall the *connect* method to create a path between *posA* and\u001b[39;00m\n\u001b[32m   2829\u001b[39m \u001b[33;03m*posB*; then clip and shrink the path.\u001b[39;00m\n\u001b[32m   2830\u001b[39m \u001b[33;03m\"\"\"\u001b[39;00m\n\u001b[32m   2831\u001b[39m path = \u001b[38;5;28mself\u001b[39m.connect(posA, posB)\n\u001b[32m-> \u001b[39m\u001b[32m2832\u001b[39m path = \u001b[38;5;28;43mself\u001b[39;49m\u001b[43m.\u001b[49m\u001b[43m_clip\u001b[49m\u001b[43m(\u001b[49m\n\u001b[32m   2833\u001b[39m \u001b[43m    \u001b[49m\u001b[43mpath\u001b[49m\u001b[43m,\u001b[49m\n\u001b[32m   2834\u001b[39m \u001b[43m    \u001b[49m\u001b[38;5;28;43mself\u001b[39;49m\u001b[43m.\u001b[49m\u001b[43m_in_patch\u001b[49m\u001b[43m(\u001b[49m\u001b[43mpatchA\u001b[49m\u001b[43m)\u001b[49m\u001b[43m \u001b[49m\u001b[38;5;28;43;01mif\u001b[39;49;00m\u001b[43m \u001b[49m\u001b[43mpatchA\u001b[49m\u001b[43m \u001b[49m\u001b[38;5;28;43;01melse\u001b[39;49;00m\u001b[43m \u001b[49m\u001b[38;5;28;43;01mNone\u001b[39;49;00m\u001b[43m,\u001b[49m\n\u001b[32m   2835\u001b[39m \u001b[43m    \u001b[49m\u001b[38;5;28;43mself\u001b[39;49m\u001b[43m.\u001b[49m\u001b[43m_in_patch\u001b[49m\u001b[43m(\u001b[49m\u001b[43mpatchB\u001b[49m\u001b[43m)\u001b[49m\u001b[43m \u001b[49m\u001b[38;5;28;43;01mif\u001b[39;49;00m\u001b[43m \u001b[49m\u001b[43mpatchB\u001b[49m\u001b[43m \u001b[49m\u001b[38;5;28;43;01melse\u001b[39;49;00m\u001b[43m \u001b[49m\u001b[38;5;28;43;01mNone\u001b[39;49;00m\u001b[43m,\u001b[49m\n\u001b[32m   2836\u001b[39m \u001b[43m\u001b[49m\u001b[43m)\u001b[49m\n\u001b[32m   2837\u001b[39m path = \u001b[38;5;28mself\u001b[39m._clip(\n\u001b[32m   2838\u001b[39m     path,\n\u001b[32m   2839\u001b[39m     inside_circle(*path.vertices[\u001b[32m0\u001b[39m], shrinkA) \u001b[38;5;28;01mif\u001b[39;00m shrinkA \u001b[38;5;28;01melse\u001b[39;00m \u001b[38;5;28;01mNone\u001b[39;00m,\n\u001b[32m   2840\u001b[39m     inside_circle(*path.vertices[-\u001b[32m1\u001b[39m], shrinkB) \u001b[38;5;28;01mif\u001b[39;00m shrinkB \u001b[38;5;28;01melse\u001b[39;00m \u001b[38;5;28;01mNone\u001b[39;00m\n\u001b[32m   2841\u001b[39m )\n\u001b[32m   2842\u001b[39m \u001b[38;5;28;01mreturn\u001b[39;00m path\n",
      "\u001b[36mFile \u001b[39m\u001b[32m~/miniconda3/lib/python3.12/site-packages/matplotlib/patches.py:2815\u001b[39m, in \u001b[36mConnectionStyle._Base._clip\u001b[39m\u001b[34m(self, path, in_start, in_stop)\u001b[39m\n\u001b[32m   2813\u001b[39m \u001b[38;5;28;01mif\u001b[39;00m in_start:\n\u001b[32m   2814\u001b[39m     \u001b[38;5;28;01mtry\u001b[39;00m:\n\u001b[32m-> \u001b[39m\u001b[32m2815\u001b[39m         _, path = \u001b[43msplit_path_inout\u001b[49m\u001b[43m(\u001b[49m\u001b[43mpath\u001b[49m\u001b[43m,\u001b[49m\u001b[43m \u001b[49m\u001b[43min_start\u001b[49m\u001b[43m)\u001b[49m\n\u001b[32m   2816\u001b[39m     \u001b[38;5;28;01mexcept\u001b[39;00m \u001b[38;5;167;01mValueError\u001b[39;00m:\n\u001b[32m   2817\u001b[39m         \u001b[38;5;28;01mpass\u001b[39;00m\n",
      "\u001b[36mFile \u001b[39m\u001b[32m~/miniconda3/lib/python3.12/site-packages/matplotlib/bezier.py:378\u001b[39m, in \u001b[36msplit_path_inout\u001b[39m\u001b[34m(path, inside, tolerance, reorder_inout)\u001b[39m\n\u001b[32m    375\u001b[39m     \u001b[38;5;28;01mraise\u001b[39;00m \u001b[38;5;167;01mValueError\u001b[39;00m(\u001b[33m\"\u001b[39m\u001b[33mThe path does not intersect with the patch\u001b[39m\u001b[33m\"\u001b[39m)\n\u001b[32m    377\u001b[39m bp = bezier_path.reshape((-\u001b[32m1\u001b[39m, \u001b[32m2\u001b[39m))\n\u001b[32m--> \u001b[39m\u001b[32m378\u001b[39m left, right = \u001b[43msplit_bezier_intersecting_with_closedpath\u001b[49m\u001b[43m(\u001b[49m\n\u001b[32m    379\u001b[39m \u001b[43m    \u001b[49m\u001b[43mbp\u001b[49m\u001b[43m,\u001b[49m\u001b[43m \u001b[49m\u001b[43minside\u001b[49m\u001b[43m,\u001b[49m\u001b[43m \u001b[49m\u001b[43mtolerance\u001b[49m\u001b[43m)\u001b[49m\n\u001b[32m    380\u001b[39m \u001b[38;5;28;01mif\u001b[39;00m \u001b[38;5;28mlen\u001b[39m(left) == \u001b[32m2\u001b[39m:\n\u001b[32m    381\u001b[39m     codes_left = [Path.LINETO]\n",
      "\u001b[36mFile \u001b[39m\u001b[32m~/miniconda3/lib/python3.12/site-packages/matplotlib/bezier.py:338\u001b[39m, in \u001b[36msplit_bezier_intersecting_with_closedpath\u001b[39m\u001b[34m(bezier, inside_closedpath, tolerance)\u001b[39m\n\u001b[32m    316\u001b[39m \u001b[38;5;28;01mdef\u001b[39;00m \u001b[34msplit_bezier_intersecting_with_closedpath\u001b[39m(\n\u001b[32m    317\u001b[39m         bezier, inside_closedpath, tolerance=\u001b[32m0.01\u001b[39m):\n\u001b[32m    318\u001b[39m \u001b[38;5;250m    \u001b[39m\u001b[33;03m\"\"\"\u001b[39;00m\n\u001b[32m    319\u001b[39m \u001b[33;03m    Split a Bézier curve into two at the intersection with a closed path.\u001b[39;00m\n\u001b[32m    320\u001b[39m \n\u001b[32m   (...)\u001b[39m\u001b[32m    335\u001b[39m \u001b[33;03m        Lists of control points for the two Bézier segments.\u001b[39;00m\n\u001b[32m    336\u001b[39m \u001b[33;03m    \"\"\"\u001b[39;00m\n\u001b[32m--> \u001b[39m\u001b[32m338\u001b[39m     bz = \u001b[43mBezierSegment\u001b[49m\u001b[43m(\u001b[49m\u001b[43mbezier\u001b[49m\u001b[43m)\u001b[49m\n\u001b[32m    339\u001b[39m     bezier_point_at_t = bz.point_at_t\n\u001b[32m    341\u001b[39m     t0, t1 = find_bezier_t_intersecting_with_closedpath(\n\u001b[32m    342\u001b[39m         bezier_point_at_t, inside_closedpath, tolerance=tolerance)\n",
      "\u001b[36mFile \u001b[39m\u001b[32m~/miniconda3/lib/python3.12/site-packages/matplotlib/bezier.py:202\u001b[39m, in \u001b[36mBezierSegment.__init__\u001b[39m\u001b[34m(self, control_points)\u001b[39m\n\u001b[32m    200\u001b[39m \u001b[38;5;28mself\u001b[39m._cpoints = np.asarray(control_points)\n\u001b[32m    201\u001b[39m \u001b[38;5;28mself\u001b[39m._N, \u001b[38;5;28mself\u001b[39m._d = \u001b[38;5;28mself\u001b[39m._cpoints.shape\n\u001b[32m--> \u001b[39m\u001b[32m202\u001b[39m \u001b[38;5;28mself\u001b[39m._orders = \u001b[43mnp\u001b[49m\u001b[43m.\u001b[49m\u001b[43marange\u001b[49m\u001b[43m(\u001b[49m\u001b[38;5;28;43mself\u001b[39;49m\u001b[43m.\u001b[49m\u001b[43m_N\u001b[49m\u001b[43m)\u001b[49m\n\u001b[32m    203\u001b[39m coeff = [math.factorial(\u001b[38;5;28mself\u001b[39m._N - \u001b[32m1\u001b[39m)\n\u001b[32m    204\u001b[39m          // (math.factorial(i) * math.factorial(\u001b[38;5;28mself\u001b[39m._N - \u001b[32m1\u001b[39m - i))\n\u001b[32m    205\u001b[39m          \u001b[38;5;28;01mfor\u001b[39;00m i \u001b[38;5;129;01min\u001b[39;00m \u001b[38;5;28mrange\u001b[39m(\u001b[38;5;28mself\u001b[39m._N)]\n\u001b[32m    206\u001b[39m \u001b[38;5;28mself\u001b[39m._px = (\u001b[38;5;28mself\u001b[39m._cpoints.T * coeff).T\n",
      "\u001b[31mKeyboardInterrupt\u001b[39m: "
     ]
    }
   ],
   "source": [
    "#for arbol in model.estimators_:\n",
    "#    tree.plot_tree(arbol, feature_names=new_features)\n",
    "#    plt.show()"
   ]
  },
  {
   "cell_type": "markdown",
   "id": "99848417-acba-41f0-beb5-0d27b95f9c31",
   "metadata": {},
   "source": [
    "# Conclusions\n",
    "The RandomForestClassifier model can predict the soil textural class based on the \"Definition of the German soil texture classes according to Ad-hoc-AG Boden (2005),\" using only the percentage values of sand, silt, and clay variables after training the model with the dataset from Poeplau et al. (2020) — Erste Bodenzustandserhebung Landwirtschaft – Kerndatensatz (https://doi.org/10.3220/DATA20200203151139). However, some soil classes have very low representation, which leads to an underestimation of these classes by the model. \n",
    "\n",
    "Moreover, despite applying balancing methods, the recall and F1-score for the affected class (only one among all present: Uu) have not been fully corrected."
   ]
  },
  {
   "cell_type": "markdown",
   "id": "b83452fc-b9cf-4c4b-94b4-c419fbd1ab92",
   "metadata": {},
   "source": [
    "# References\n",
    "Ad-hoc-AG Boden. (2005). Definition of the German soil texture classes.\n",
    "\n",
    "ISRIC. (2022). World Reference Base for Soil Resources: International soil classification system for naming soils and creating legends for soil maps (4th ed., 2022, update 2024-09-24). Food and Agriculture Organization of the United Nations (FAO). https://wrb.isric.org/files/WRB_fourth_edition_2022-12-18_errata_correction_2024-09-24.pdf\n",
    "\n",
    "Poeplau, C., Don, A., Flessa, H., Heidkamp, A., Jacobs, A., Prietz, R., 2020. Erste Bodenzustandserhebung Landwirtschaft – Kerndatensatz. https://doi.org/10.3220/DATA20200203151139\n"
   ]
  },
  {
   "cell_type": "code",
   "execution_count": null,
   "id": "b651104d-665b-4a34-9284-d88da37172bb",
   "metadata": {},
   "outputs": [],
   "source": []
  }
 ],
 "metadata": {
  "kernelspec": {
   "display_name": "Python 3 (ipykernel)",
   "language": "python",
   "name": "python3"
  },
  "language_info": {
   "codemirror_mode": {
    "name": "ipython",
    "version": 3
   },
   "file_extension": ".py",
   "mimetype": "text/x-python",
   "name": "python",
   "nbconvert_exporter": "python",
   "pygments_lexer": "ipython3",
   "version": "3.12.9"
  }
 },
 "nbformat": 4,
 "nbformat_minor": 5
}
