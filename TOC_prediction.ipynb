{
 "cells": [
  {
   "cell_type": "markdown",
   "id": "d4da86ed-46ed-4ff9-aefc-22c8bafdd43b",
   "metadata": {},
   "source": [
    "# MODEL 2. ESTIMATION OF TOC BASED ON SOIL PHYSICAL VARIABLES\n",
    "In this notebook, we will use a Random Forest Regression model to estimate the amount of organic carbon in the soil based on measurable variables such as water content, texture, and bulk density. Our analysis used soil property data from the First Agricultural Soil Condition Survey - Core Dataset (Poeplau et al., 2020), a comprehensive national survey of German agricultural soils."
   ]
  },
  {
   "cell_type": "markdown",
   "id": "31972674-87df-4e37-bd43-72a6f0e4db3e",
   "metadata": {},
   "source": [
    "# 1. Import libraries"
   ]
  },
  {
   "cell_type": "code",
   "execution_count": 2,
   "id": "c30047cd-2795-42de-944e-26dbe7a520ed",
   "metadata": {},
   "outputs": [],
   "source": [
    "import pandas as pd\n",
    "from pandas.api.types import is_numeric_dtype\n",
    "import numpy as np\n",
    "import matplotlib.pyplot as plt\n",
    "import seaborn as sns\n",
    "\n",
    "# Librerías para el modelo\n",
    "from sklearn.preprocessing import LabelEncoder\n",
    "from sklearn.model_selection import train_test_split, KFold, cross_val_score\n",
    "from sklearn.ensemble import RandomForestRegressor\n",
    "from sklearn.metrics import classification_report, confusion_matrix, mean_squared_error, r2_score, make_scorer\n",
    "from sklearn.feature_selection import SelectKBest, f_regression\n",
    "\n",
    "\n",
    "from scipy import stats\n"
   ]
  },
  {
   "cell_type": "code",
   "execution_count": 3,
   "id": "f887d6d0-7258-440d-a5aa-e4fcdb6a85d4",
   "metadata": {},
   "outputs": [],
   "source": [
    "ruta = ('data/processed/df_soils.csv') \n",
    "df = pd.read_csv(ruta)"
   ]
  },
  {
   "cell_type": "code",
   "execution_count": 4,
   "id": "d365c4c5-4bbb-4efc-83a0-c955757b6064",
   "metadata": {
    "scrolled": true
   },
   "outputs": [],
   "source": [
    "lista_variables = list(df.columns)"
   ]
  },
  {
   "cell_type": "markdown",
   "id": "fce644a2-da90-4b68-877b-2258e4a36084",
   "metadata": {},
   "source": [
    "# 2. Variables selection\n",
    "## 2.1. Encoding categorical variables\n",
    "\n",
    "There are too many variables, and not all are necessary for estimating carbon content. To identify the most useful ones, we will use KBest. Before applying this method, we need to encode categorical variables."
   ]
  },
  {
   "cell_type": "code",
   "execution_count": 5,
   "id": "b3d88350-0f7f-4854-b4c1-dc2026664bbb",
   "metadata": {},
   "outputs": [],
   "source": [
    "variables_categoricas = ['Soil colour', 'Carbonate class','Rooting intensity','Soil texture class_x']\n",
    "\n",
    "le = LabelEncoder()\n",
    "\n",
    "\n",
    "for variable in variables_categoricas:\n",
    "    df[variable + ' encoded'] = le.fit_transform(df[variable])\n"
   ]
  },
  {
   "cell_type": "markdown",
   "id": "feb7d694-0f59-43d0-9dbc-538fa348a0c7",
   "metadata": {},
   "source": [
    "First, we will remove variables that have been encoded, identifier columns, and those directly related (such as TC or TN), as well as the target variable itself.\n"
   ]
  },
  {
   "cell_type": "code",
   "execution_count": 6,
   "id": "9d80eb0c-e153-4c9d-a7fc-f71447ddb938",
   "metadata": {},
   "outputs": [],
   "source": [
    "columnas_eliminar = ['PointID',\n",
    " 'HorizontID',\n",
    " 'Upper limit',\n",
    " 'Lower limit',\n",
    " 'Horizon symbol',\n",
    " 'Soil colour',\n",
    " 'Stones',\n",
    " 'Carbonate class',\n",
    " 'Organic matter content class',\n",
    " 'Rooting intensity',\n",
    " 'Soil texture class_x',\n",
    " 'TC',\n",
    " 'TOC',\n",
    " 'TIC',\n",
    " 'TN',\n",
    " 'County']\n",
    "\n",
    "y= df['TOC']\n",
    "\n",
    "X = df.drop(columns = columnas_eliminar)\n",
    "\n"
   ]
  },
  {
   "cell_type": "markdown",
   "id": "9a135a12-6ac9-4866-ad40-151a4189aadf",
   "metadata": {},
   "source": [
    "## 2.2. Select KBest. \n",
    "We use Select KBest to select the top k features from this dataset. This allow us to reduce dimensionality and improve model accuracy. After this we can ask if the model can be used only with physical properties of the soil."
   ]
  },
  {
   "cell_type": "code",
   "execution_count": 7,
   "id": "31cb547d-9f04-4239-9dc8-e4df155dfe2b",
   "metadata": {},
   "outputs": [
    {
     "name": "stdout",
     "output_type": "stream",
     "text": [
      "                        Variable       F-score        p-value\n",
      "14                 Water content  68009.128294   0.000000e+00\n",
      "11                         BD_FS  19151.880865   0.000000e+00\n",
      "12                       BD_bulk  16491.367876   0.000000e+00\n",
      "16                        EC_H2O   2469.763080   0.000000e+00\n",
      "13                           FSS   2211.134835   0.000000e+00\n",
      "21  Soil texture class_x encoded   1182.962282  9.057863e-251\n",
      "15                        pH_H2O   1020.202628  1.589976e-217\n",
      "17                      pH_CaCl2    673.580253  1.053843e-145\n",
      "0         Rock fragment fraction    150.836155   1.588479e-34\n",
      "2                             gS     87.927935   7.612699e-21\n",
      "3                             mS     81.704726   1.744863e-19\n",
      "20     Rooting intensity encoded     52.091457   5.518602e-13\n",
      "4                             fS     50.853820   1.034657e-12\n",
      "5                             gU     50.740433   1.096002e-12\n",
      "18           Soil colour encoded     38.124504   6.786175e-10\n"
     ]
    }
   ],
   "source": [
    "# Create selector and an important features group (X_nuevo)\n",
    "selector = SelectKBest(score_func=f_regression, k=15)\n",
    "\n",
    "X_nuevo = selector.fit_transform(X, y)\n",
    "\n",
    "# Obtain scores and p-values\n",
    "scores = selector.scores_\n",
    "pvalues = selector.pvalues_\n",
    "\n",
    "# Create a Df with the results\n",
    "resultados = pd.DataFrame({\n",
    "    'Variable': X.columns,\n",
    "    'F-score': scores,\n",
    "    'p-value': pvalues\n",
    "})\n",
    "\n",
    "# Filtering selected variables\n",
    "resultados_filtrados = resultados[selector.get_support()]\n",
    "\n",
    "# Sort by F-score\n",
    "resultados_filtrados = resultados_filtrados.sort_values(by='F-score', ascending=False)\n",
    "\n",
    "print(resultados_filtrados)"
   ]
  },
  {
   "cell_type": "code",
   "execution_count": 8,
   "id": "b4dc2a9a-1cc4-44d0-a745-74d46cbe9ce6",
   "metadata": {},
   "outputs": [],
   "source": [
    "# We can now decide which variables are going to use (F-score > 100)\n",
    "\n",
    "features = ['Water content','BD_FS','BD_bulk','EC_H2O','FSS','Soil texture class_x encoded','pH_H2O','pH_CaCl2','Rock fragment fraction']\n",
    "\n",
    "target = 'TOC'\n",
    "\n",
    "y=df[target]\n",
    "\n",
    "X = df[features]\n"
   ]
  },
  {
   "cell_type": "markdown",
   "id": "65e8744e-3501-4f29-965c-10307eeb9d4a",
   "metadata": {},
   "source": [
    "# 3. TRAIN THE MODEL\n"
   ]
  },
  {
   "cell_type": "code",
   "execution_count": 9,
   "id": "068cf0e2-68ca-4df7-b924-8588f2999cde",
   "metadata": {},
   "outputs": [],
   "source": [
    "# Train and test goups using train_test_split\n",
    "X_train, X_test, y_train, y_test = train_test_split(X, y, test_size=0.2, random_state=42)"
   ]
  },
  {
   "cell_type": "code",
   "execution_count": 10,
   "id": "9bb58f8c-d1bd-4dcf-8fde-a744240c279e",
   "metadata": {},
   "outputs": [],
   "source": [
    "# Train the model\n",
    "model = RandomForestRegressor(n_estimators=100, random_state=42)\n",
    "\n",
    "model.fit(X_train, y_train)\n",
    "\n",
    "y_pred = model.predict(X_test)"
   ]
  },
  {
   "cell_type": "code",
   "execution_count": 11,
   "id": "d4890549-6217-472f-b5a6-d39ea281cc41",
   "metadata": {},
   "outputs": [
    {
     "name": "stdout",
     "output_type": "stream",
     "text": [
      "MSE: 149.506\n",
      "R²: 0.960\n"
     ]
    }
   ],
   "source": [
    "# Evaluate the model\n",
    "mse = mean_squared_error(y_test, y_pred)\n",
    "r2 = r2_score(y_test, y_pred)\n",
    "\n",
    "print(f\"MSE: {mse:.3f}\")\n",
    "print(f\"R²: {r2:.3f}\")"
   ]
  },
  {
   "cell_type": "markdown",
   "id": "e2edfdd9-1db0-4552-bb9d-2f41336b9ded",
   "metadata": {},
   "source": [
    "It is acceptable MSE value? we will compare the range with the RMSE (Relative Error (%))"
   ]
  },
  {
   "cell_type": "code",
   "execution_count": 17,
   "id": "94ac9e34-e7fa-4549-9e36-1fb8a3102353",
   "metadata": {
    "scrolled": true
   },
   "outputs": [
    {
     "data": {
      "text/plain": [
       "np.float64(582.81)"
      ]
     },
     "execution_count": 17,
     "metadata": {},
     "output_type": "execute_result"
    }
   ],
   "source": [
    "maxim = df['TOC'].max()\n",
    "minim = df['TOC'].min()\n",
    "range_TOC = maxim - minim\n",
    "range_TOC"
   ]
  },
  {
   "cell_type": "code",
   "execution_count": 16,
   "id": "56aeb886-21f3-4000-afb8-919c8c988f86",
   "metadata": {},
   "outputs": [
    {
     "data": {
      "text/plain": [
       "np.float64(12.227019260637483)"
      ]
     },
     "execution_count": 16,
     "metadata": {},
     "output_type": "execute_result"
    }
   ],
   "source": [
    "rmse = np.sqrt(149.5)\n",
    "rmse"
   ]
  },
  {
   "cell_type": "code",
   "execution_count": 22,
   "id": "cdfe0183-95df-446d-8aa8-7ffa661a0056",
   "metadata": {},
   "outputs": [
    {
     "name": "stdout",
     "output_type": "stream",
     "text": [
      "The model error is 2.098%\n"
     ]
    }
   ],
   "source": [
    "error = (rmse / range_TOC) * 100\n",
    "print(f\"The model error is {error:.3f}%\")"
   ]
  },
  {
   "cell_type": "markdown",
   "id": "7e7c504f-06f2-4137-a0fe-036394666335",
   "metadata": {},
   "source": [
    "It can be assumed that the model predicts TOC accurately using these variables."
   ]
  },
  {
   "cell_type": "markdown",
   "id": "fa40bc27-105c-49f8-b3e5-d6dfeb76c2da",
   "metadata": {},
   "source": [
    "# 4. Try to improve the model"
   ]
  },
  {
   "cell_type": "markdown",
   "id": "68683e6f-ef34-4473-b5ac-ebf6a8ddc51c",
   "metadata": {
    "scrolled": true
   },
   "source": [
    "## 4.1. Visualizing data "
   ]
  },
  {
   "cell_type": "markdown",
   "id": "eedc4cf8-1f52-4d75-a11d-8d1b6c25f61d",
   "metadata": {},
   "source": [
    "### 4.1.1 Predicted TOC vs real TOC"
   ]
  },
  {
   "cell_type": "code",
   "execution_count": 24,
   "id": "7319f773-38ea-4577-a4ce-a2ef61965e4c",
   "metadata": {
    "scrolled": true
   },
   "outputs": [
    {
     "data": {
      "image/png": "[encoded data removed]",
      "text/plain": [
       "<Figure size 800x600 with 1 Axes>"
      ]
     },
     "metadata": {},
     "output_type": "display_data"
    }
   ],
   "source": [
    "sns.set(style=\"whitegrid\")\n",
    "\n",
    "# Scatterplot with seaborn\n",
    "plt.figure(figsize=(8, 6))\n",
    "sns.scatterplot(x=y_test, y=y_pred, color=\"steelblue\", edgecolor=\"k\")\n",
    "\n",
    "# Reference line\n",
    "plt.plot([y_test.min(), y_test.max()], [y_test.min(), y_test.max()], '--r')\n",
    "\n",
    "# Titles and labels\n",
    "plt.title(\"Predicción vs Valor real de TOC\")\n",
    "plt.xlabel(\"TOC real\")\n",
    "plt.ylabel(\"TOC predicho\")\n",
    "\n",
    "plt.tight_layout()\n",
    "plt.show()"
   ]
  },
  {
   "cell_type": "markdown",
   "id": "8b99bdff-6c19-4d61-8ada-840954050a49",
   "metadata": {},
   "source": [
    "### 4.1.2. Visualizing outlayers "
   ]
  },
  {
   "cell_type": "code",
   "execution_count": 27,
   "id": "02a5c767-ed13-430e-99e8-d0d04523e168",
   "metadata": {},
   "outputs": [
    {
     "data": {
      "image/png": "[encoded data removed]",
      "text/plain": [
       "<Figure size 1000x500 with 1 Axes>"
      ]
     },
     "metadata": {},
     "output_type": "display_data"
    },
    {
     "data": {
      "image/png": "[encoded data removed]",
      "text/plain": [
       "<Figure size 1000x200 with 1 Axes>"
      ]
     },
     "metadata": {},
     "output_type": "display_data"
    }
   ],
   "source": [
    "toc_values = df['TOC']\n",
    "\n",
    "# Histogram\n",
    "plt.figure(figsize=(10, 5))\n",
    "sns.histplot(toc_values, bins=100, kde=True)\n",
    "plt.title('TOC Distribution')\n",
    "plt.xlabel('TOC (g/kg)')\n",
    "plt.ylabel('Frequency')\n",
    "plt.show()\n",
    "\n",
    "# Boxplot\n",
    "plt.figure(figsize=(10, 2))\n",
    "sns.boxplot(x=toc_values)\n",
    "plt.title('Boxplot del TOC')\n",
    "plt.xlabel('TOC (g/kg)')\n",
    "plt.show()\n"
   ]
  },
  {
   "cell_type": "markdown",
   "id": "d094ff00-7f97-4e74-9d20-e0cd090c1332",
   "metadata": {},
   "source": [
    "## 4.2. Transformations"
   ]
  },
  {
   "cell_type": "markdown",
   "id": "c915c920-e4a4-43e6-9e84-4e0d3e5776c3",
   "metadata": {},
   "source": [
    "### 4.2.1. Logaritmic transformation\n",
    "We can try a logaritmic transformation to stabilize variance."
   ]
  },
  {
   "cell_type": "code",
   "execution_count": 29,
   "id": "09d870ee-02bf-485e-a342-def51dc6669d",
   "metadata": {},
   "outputs": [],
   "source": [
    "df['TOC_log'] = np.log1p(df['TOC'])"
   ]
  },
  {
   "cell_type": "code",
   "execution_count": 30,
   "id": "03f68917-68d6-4a9b-a938-b7e6e47257e9",
   "metadata": {},
   "outputs": [],
   "source": [
    "# Run the modified model:\n",
    "\n",
    "features = ['Water content','BD_FS','BD_bulk','EC_H2O','FSS','Soil texture class_x encoded','pH_H2O','pH_CaCl2','Rock fragment fraction']\n",
    "\n",
    "target_log = 'TOC_log'\n",
    "\n",
    "y=df[target_log]\n",
    "X = df[features]\n",
    "\n",
    "\n",
    "X_train, X_test, y_train, y_test = train_test_split(X, y, test_size=0.2, random_state=42)\n",
    "\n",
    "model = RandomForestRegressor(n_estimators=100, random_state=42)\n",
    "model.fit(X_train, y_train)\n",
    "\n",
    "y_pred = model.predict(X_test)"
   ]
  },
  {
   "cell_type": "code",
   "execution_count": 31,
   "id": "f40bff0f-9a2e-4910-aab6-03e24422d76f",
   "metadata": {},
   "outputs": [
    {
     "name": "stdout",
     "output_type": "stream",
     "text": [
      "MSE: 0.193\n",
      "R²: 0.853\n"
     ]
    }
   ],
   "source": [
    "mse = mean_squared_error(y_test, y_pred)\n",
    "r2 = r2_score(y_test, y_pred)\n",
    "\n",
    "print(f\"MSE: {mse:.3f}\")\n",
    "print(f\"R²: {r2:.3f}\")"
   ]
  },
  {
   "cell_type": "markdown",
   "id": "329974a3-7a87-460b-b94b-53dcd341bc47",
   "metadata": {},
   "source": [
    "Now MSE is lower but r2 too.\n",
    "Let's assess the overfitting"
   ]
  },
  {
   "cell_type": "code",
   "execution_count": 32,
   "id": "54764190-086c-4705-ac9a-6d9822e409f6",
   "metadata": {},
   "outputs": [
    {
     "name": "stdout",
     "output_type": "stream",
     "text": [
      "Cross-validated MSE (log TOC): 0.200 ± 0.006\n",
      "Cross-validated R² (log TOC): 0.853 ± 0.005\n"
     ]
    }
   ],
   "source": [
    "# cross validation K-fold\n",
    "kf = KFold(n_splits=5, shuffle=True, random_state=42)\n",
    "\n",
    "# define scorers\n",
    "mse_scorer = make_scorer(mean_squared_error)\n",
    "r2_scorer = make_scorer(r2_score)\n",
    "\n",
    "# Calculate MSE and R2 in each fold\n",
    "mse_scores = cross_val_score(model, X, y, cv=kf, scoring=mse_scorer)\n",
    "r2_scores = cross_val_score(model, X, y, cv=kf, scoring=r2_scorer)\n",
    "\n",
    "# Results\n",
    "print(f\"Cross-validated MSE (log TOC): {mse_scores.mean():.3f} ± {mse_scores.std():.3f}\")\n",
    "print(f\"Cross-validated R² (log TOC): {r2_scores.mean():.3f} ± {r2_scores.std():.3f}\")\n"
   ]
  },
  {
   "cell_type": "code",
   "execution_count": 30,
   "id": "c02f46a2-2118-4bff-80d2-bfcf4bbc7425",
   "metadata": {},
   "outputs": [
    {
     "name": "stdout",
     "output_type": "stream",
     "text": [
      "Cross-validated MSE (log TOC): 144.364 ± 22.921\n",
      "Cross-validated R² (log TOC): 0.966 ± 0.005\n"
     ]
    }
   ],
   "source": [
    "# Now do the k fold with the original dataset:\n",
    "\n",
    "y=df[target]\n",
    "\n",
    "X = df[features]\n",
    "\n",
    "# Cross validationK-fold\n",
    "kf = KFold(n_splits=5, shuffle=True, random_state=42)\n",
    "\n",
    "# scorers\n",
    "mse_scorer = make_scorer(mean_squared_error)\n",
    "r2_scorer = make_scorer(r2_score)\n",
    "\n",
    "# MSE and R2 \n",
    "mse_scores = cross_val_score(model, X, y, cv=kf, scoring=mse_scorer)\n",
    "r2_scores = cross_val_score(model, X, y, cv=kf, scoring=r2_scorer)\n",
    "\n",
    "# Results\n",
    "print(f\"Cross-validated MSE (log TOC): {mse_scores.mean():.3f} ± {mse_scores.std():.3f}\")\n",
    "print(f\"Cross-validated R² (log TOC): {r2_scores.mean():.3f} ± {r2_scores.std():.3f}\")\n"
   ]
  },
  {
   "cell_type": "markdown",
   "id": "785b05ce-78cf-4136-ac30-7f8f17696b79",
   "metadata": {},
   "source": [
    "### 4.2.2 Eliminating outlayers"
   ]
  },
  {
   "cell_type": "code",
   "execution_count": 33,
   "id": "c939f94a-cf17-4a25-8ef5-126ab4f97c2f",
   "metadata": {},
   "outputs": [],
   "source": [
    "\n",
    "# Calculate  Z-score for the column\n",
    "z_scores = stats.zscore(df['TOC'])\n",
    "\n",
    "# Umbral deffinition\n",
    "threshold = 3\n",
    "\n",
    "# Boolean mask\n",
    "df_sin_outliers = df[abs(z_scores) < threshold]\n",
    "\n",
    "# Filtering\n",
    "df['TOC_outlyers'] = df['TOC'][abs(z_scores) < threshold]\n",
    "\n",
    "# NaNs processing\n",
    "df['TOC_outlyers'] = df['TOC_outlyers'].fillna(df['TOC_outlyers'].median())\n"
   ]
  },
  {
   "cell_type": "code",
   "execution_count": 34,
   "id": "1bb1d3b7-02c5-4f16-baa0-e678767fe598",
   "metadata": {},
   "outputs": [],
   "source": [
    "# Testing the model without outlayers\n",
    "\n",
    "features = ['Water content','BD_FS','BD_bulk','EC_H2O','FSS','Soil texture class_x encoded','pH_H2O','pH_CaCl2','Rock fragment fraction']\n",
    "\n",
    "target_out = 'TOC_outlyers'\n",
    "\n",
    "y=df[target_out]\n",
    "X = df[features]\n",
    "\n",
    "\n",
    "X_train, X_test, y_train, y_test = train_test_split(X, y, test_size=0.2, random_state=42)\n",
    "\n",
    "model = RandomForestRegressor(n_estimators=100, random_state=42)\n",
    "model.fit(X_train, y_train)\n",
    "\n",
    "y_pred = model.predict(X_test)"
   ]
  },
  {
   "cell_type": "code",
   "execution_count": 35,
   "id": "c8831dfa-dadf-49b6-ae97-4ae6a582ce33",
   "metadata": {},
   "outputs": [
    {
     "name": "stdout",
     "output_type": "stream",
     "text": [
      "MSE: 143.434\n",
      "R²: 0.622\n"
     ]
    }
   ],
   "source": [
    "mse = mean_squared_error(y_test, y_pred)\n",
    "r2 = r2_score(y_test, y_pred)\n",
    "\n",
    "print(f\"MSE: {mse:.3f}\")\n",
    "print(f\"R²: {r2:.3f}\")"
   ]
  },
  {
   "cell_type": "markdown",
   "id": "5a2c3b81-c134-47a0-bc80-ed11e3a5b97f",
   "metadata": {},
   "source": [
    "This preprocessing step significantly degrades the model's performance."
   ]
  },
  {
   "cell_type": "markdown",
   "id": "10f8c46c-2959-412f-ac26-d55ae3efbfe7",
   "metadata": {},
   "source": [
    "# 5. Use the model only with physical properties"
   ]
  },
  {
   "cell_type": "code",
   "execution_count": 39,
   "id": "e29ce485-767a-40b6-8aa9-00f23ae3a779",
   "metadata": {},
   "outputs": [],
   "source": [
    "physical_features = ['Water content','BD_FS','BD_bulk','FSS','Soil texture class_x encoded']\n",
    "\n",
    "target = 'TOC'\n",
    "\n",
    "y= df[target]\n",
    "\n",
    "X = df[physical_features]\n"
   ]
  },
  {
   "cell_type": "code",
   "execution_count": 40,
   "id": "4adacfa2-7650-4f4b-b036-feadebd66736",
   "metadata": {},
   "outputs": [],
   "source": [
    "# Train and test goups using train_test_split\n",
    "X_train, X_test, y_train, y_test = train_test_split(X, y, test_size=0.2, random_state=42)"
   ]
  },
  {
   "cell_type": "code",
   "execution_count": 41,
   "id": "41704db6-46f5-4b75-9435-b0695425ed31",
   "metadata": {},
   "outputs": [],
   "source": [
    "# Train the model\n",
    "model = RandomForestRegressor(n_estimators=100, random_state=42)\n",
    "\n",
    "model.fit(X_train, y_train)\n",
    "\n",
    "y_pred = model.predict(X_test)"
   ]
  },
  {
   "cell_type": "code",
   "execution_count": 43,
   "id": "a6efe1aa-6663-41c0-9ab6-03505d9e3ece",
   "metadata": {},
   "outputs": [
    {
     "name": "stdout",
     "output_type": "stream",
     "text": [
      "MSE: 211.223\n",
      "R²: 0.943\n"
     ]
    }
   ],
   "source": [
    "# Evaluate the model\n",
    "mse = mean_squared_error(y_test, y_pred)\n",
    "r2 = r2_score(y_test, y_pred)\n",
    "\n",
    "print(f\"MSE: {mse:.3f}\")\n",
    "print(f\"R²: {r2:.3f}\")"
   ]
  },
  {
   "cell_type": "markdown",
   "id": "54948179-6a9e-4fe2-8857-8e1cf35b0b30",
   "metadata": {},
   "source": [
    "# 6. Conclusions:\n",
    "\n",
    "Logarithmic Transformation\n",
    "    Applying a logarithmic transformation to TOC values in the RandomForestRegression model reduced the mean squared error (MSE), but also decreased the R² score.\n",
    "\n",
    "Outlier Removal Impact\n",
    "    Eliminating outliers resulted in the loss of data points that explain the natural variability of the dataset.\n",
    "\n",
    "Full Model Performance\n",
    "    Using all available variables (Water content, BD_FS, BD_bulk, EC_H2O, FSS, Soil texture class_x encoded, pH_H2O, pH_CaCl2, Rock fragment fraction), the model achieved:\n",
    "\n",
    "    MSE: 149.506\n",
    "    R²: 0.960\n",
    "    demonstrating strong predictive capability for soil TOC.\n",
    "\n",
    "Physical Variables Only\n",
    "    When using only physical variables (Water content, BD_FS, BD_bulk, FSS, Soil texture class_x encoded):\n",
    "\n",
    "    MSE: 211.223\n",
    "    R²: 0.943\n",
    "    While MSE increases, this simplified approach still provides reasonable TOC estimates while significantly reducing analytical effort and costs.\n"
   ]
  },
  {
   "cell_type": "markdown",
   "id": "a7d9f491-452a-4de8-b7d0-8bbd2c7bf2f1",
   "metadata": {},
   "source": [
    "# References\n",
    "Poeplau, C., Don, A., Flessa, H., Heidkamp, A., Jacobs, A., Prietz, R., 2020. Erste Bodenzustandserhebung Landwirtschaft – Kerndatensatz. https://doi.org/10.3220/DATA20200203151139"
   ]
  },
  {
   "cell_type": "code",
   "execution_count": null,
   "id": "bce3166b-f3f8-4b74-a710-b6181fb5d0e9",
   "metadata": {},
   "outputs": [],
   "source": []
  }
 ],
 "metadata": {
  "kernelspec": {
   "display_name": "Python 3 (ipykernel)",
   "language": "python",
   "name": "python3"
  },
  "language_info": {
   "codemirror_mode": {
    "name": "ipython",
    "version": 3
   },
   "file_extension": ".py",
   "mimetype": "text/x-python",
   "name": "python",
   "nbconvert_exporter": "python",
   "pygments_lexer": "ipython3",
   "version": "3.12.9"
  }
 },
 "nbformat": 4,
 "nbformat_minor": 5
}
